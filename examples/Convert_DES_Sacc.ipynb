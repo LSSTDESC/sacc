{
 "cells": [
  {
   "cell_type": "markdown",
   "metadata": {},
   "source": [
    "## Convert DES Data to SACC\n",
    "\n",
    "In this example we will load a DES-format 2pt FITS file and convert it into a Sacc file.\n",
    "\n",
    "This requires the DES twopoint library, which is available using `pip install twopoint`."
   ]
  },
  {
   "cell_type": "code",
   "execution_count": 1,
   "metadata": {},
   "outputs": [
    {
     "name": "stdout",
     "output_type": "stream",
     "text": [
      "Populating the interactive namespace from numpy and matplotlib\n"
     ]
    }
   ],
   "source": [
    "pylab inline"
   ]
  },
  {
   "cell_type": "code",
   "execution_count": 2,
   "metadata": {},
   "outputs": [],
   "source": [
    "import twopoint\n",
    "import sacc\n",
    "from twopoint import Types\n",
    "from sacc import Sacc, standard_types\n",
    "import os"
   ]
  },
  {
   "cell_type": "markdown",
   "metadata": {},
   "source": [
    "Download the DES data file."
   ]
  },
  {
   "cell_type": "code",
   "execution_count": 3,
   "metadata": {},
   "outputs": [
    {
     "name": "stdout",
     "output_type": "stream",
     "text": [
      "File already downloaded\n"
     ]
    }
   ],
   "source": [
    "import urllib.request\n",
    "filename = '2pt_NG_mcal_1110.fits'\n",
    "url = 'http://desdr-server.ncsa.illinois.edu/despublic/y1a1_files/chains/2pt_NG_mcal_1110.fits'\n",
    "if os.path.exists(filename):\n",
    "    print(\"File already downloaded\")\n",
    "else:\n",
    "    print(\"Downloading file\")\n",
    "    urllib.request.urlretrieve(url, filename)\n",
    "    print(\"Done\")\n"
   ]
  },
  {
   "cell_type": "markdown",
   "metadata": {},
   "source": [
    "Load in the DES data file, and make a new empty sacc file\n"
   ]
  },
  {
   "cell_type": "code",
   "execution_count": 4,
   "metadata": {},
   "outputs": [],
   "source": [
    "T = twopoint.TwoPointFile.from_fits(filename)\n",
    "S = Sacc()"
   ]
  },
  {
   "cell_type": "markdown",
   "metadata": {},
   "source": [
    "This table converts the type codes used in twopoint to sacc names\n"
   ]
  },
  {
   "cell_type": "code",
   "execution_count": 5,
   "metadata": {},
   "outputs": [],
   "source": [
    "types = {\n",
    "    (Types.galaxy_shear_plus_real, Types.galaxy_shear_plus_real): standard_types.galaxy_shear_xi_plus,\n",
    "    (Types.galaxy_shear_minus_real, Types.galaxy_shear_minus_real): standard_types.galaxy_shear_xi_minus,\n",
    "    (Types.galaxy_position_real, Types.galaxy_shear_plus_real): standard_types.galaxy_shearDensity_xi_t,\n",
    "    (Types.galaxy_position_real, Types.galaxy_position_real): standard_types.galaxy_density_xi,\n",
    "}"
   ]
  },
  {
   "cell_type": "markdown",
   "metadata": {},
   "source": [
    "In TwoPoint n(z) kernels are grouped into general types,\n",
    "whereas in sacc we make a new tracer for each bin.\n",
    "This dict maps this name change.\n"
   ]
  },
  {
   "cell_type": "code",
   "execution_count": 6,
   "metadata": {},
   "outputs": [],
   "source": [
    "tracer_names = {\n",
    "    'nz_lens': 'lens_{}',\n",
    "    'nz_source': 'source_{}',\n",
    "}"
   ]
  },
  {
   "cell_type": "markdown",
   "metadata": {},
   "source": [
    "First convert the DES kernel objecs -> Sacc tracers\n"
   ]
  },
  {
   "cell_type": "code",
   "execution_count": 7,
   "metadata": {},
   "outputs": [],
   "source": [
    "for kernel in T.kernels:\n",
    "    fmt = tracer_names[kernel.name]\n",
    "    z = kernel.z\n",
    "    for i in range(kernel.nbin):\n",
    "        nz = kernel.nzs[i]\n",
    "        # In DES we used 1-based bin indices.\n",
    "        # Because I was young and reckless then.\n",
    "        name = fmt.format(i)\n",
    "        S.add_tracer('NZ', name, z, nz)"
   ]
  },
  {
   "cell_type": "markdown",
   "metadata": {},
   "source": [
    "Now extract points from the spectrum objects and add them to the sacc data set\n"
   ]
  },
  {
   "cell_type": "code",
   "execution_count": 8,
   "metadata": {},
   "outputs": [],
   "source": [
    "for s in T.spectra:\n",
    "    data_type = types[(s.type1,s.type2)]\n",
    "    fmt1 = tracer_names[s.kernel1]\n",
    "    fmt2 = tracer_names[s.kernel2]\n",
    "    n = len(s)\n",
    "    for k in range(n):\n",
    "        i = s.bin1[k] - 1\n",
    "        j = s.bin2[k] - 1\n",
    "        tracers = (fmt1.format(i), fmt2.format(j))\n",
    "        S.add_data_point(data_type, tracers, s.value[k], theta=s.angle[k], theta_bin=s.angular_bin[k])"
   ]
  },
  {
   "cell_type": "markdown",
   "metadata": {},
   "source": [
    "And finally add the covariance"
   ]
  },
  {
   "cell_type": "code",
   "execution_count": 9,
   "metadata": {},
   "outputs": [],
   "source": [
    "S.add_covariance(T.covmat)"
   ]
  },
  {
   "cell_type": "markdown",
   "metadata": {},
   "source": [
    "Now we have fully assembled the Sacc file we can save it to disc."
   ]
  },
  {
   "cell_type": "code",
   "execution_count": 10,
   "metadata": {},
   "outputs": [],
   "source": [
    "S.save_fits('des-converted.sacc', overwrite=True)"
   ]
  }
 ],
 "metadata": {
  "kernelspec": {
   "display_name": "Python 3",
   "language": "python",
   "name": "python3"
  },
  "language_info": {
   "codemirror_mode": {
    "name": "ipython",
    "version": 3
   },
   "file_extension": ".py",
   "mimetype": "text/x-python",
   "name": "python",
   "nbconvert_exporter": "python",
   "pygments_lexer": "ipython3",
   "version": "3.7.2"
  }
 },
 "nbformat": 4,
 "nbformat_minor": 2
}
