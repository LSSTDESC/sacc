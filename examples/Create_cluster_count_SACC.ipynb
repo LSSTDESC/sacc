{
 "cells": [
  {
   "cell_type": "markdown",
   "metadata": {},
   "source": [
    "# Cluster count-only SACC file creation\n",
    "\n",
    "This notebook examplifies the creation of a SACC file for cluster count, using pre-extracted halo catalog from the SkySim dataset. It\n",
    "- shows how to load the data\n",
    "- counts halos in the richness and redshift plane\n",
    "- computes the covariance using jackknife resampling (to be eventually done by TJPCov)\n",
    "- **save the count and covariance in the SACC format**"
   ]
  },
  {
   "cell_type": "code",
   "execution_count": null,
   "metadata": {},
   "outputs": [],
   "source": [
    "import os\n",
    "import matplotlib.pyplot as plt\n",
    "import pandas as pd\n",
    "import numpy as np\n",
    "import pyccl as ccl\n",
    "import sacc"
   ]
  },
  {
   "cell_type": "code",
   "execution_count": null,
   "metadata": {},
   "outputs": [],
   "source": [
    "sacc.__version__"
   ]
  },
  {
   "cell_type": "markdown",
   "metadata": {},
   "source": [
    "## Load halo list\n",
    "This is reading a file prepared from the SkySim dataset and stored at CC-in2p3 or NERSC (uncomment as needed)"
   ]
  },
  {
   "cell_type": "code",
   "execution_count": null,
   "metadata": {},
   "outputs": [],
   "source": [
    "path_to_cat = '/sps/lsst/users/ccombet/SkySim5000/hdf5' # CC-in2p3\n",
    "# path_to_cat = '/global/u1/c/ccombet/SkySim5000/hdf5' # NERSC\n",
    "\n",
    "size = 'image' # other options are 'image' (440 deg2) and 'small' (57 deg2), 'full' (5000 deg2)\n",
    "\n",
    "with pd.HDFStore(os.path.join(path_to_cat,f'skysim_halos_z=0-1.20_mfof_gt_1.00e+13_{size}.hdf5')) as store:\n",
    "    dm_halos = store['skysim']\n",
    "    metadata = store.get_storer('skysim').attrs.metadata\n",
    "\n",
    "cosmo_ss  = metadata['cosmo']\n",
    "sky_area = metadata['sky_area']\n",
    "N_cl = len(dm_halos['halo_mass'])\n",
    "print(f'There are {N_cl} halos with Mfof > 1e13 Msun and z=[0,1.2] in {sky_area} deg2')"
   ]
  },
  {
   "cell_type": "markdown",
   "metadata": {},
   "source": [
    "## Count halos in the $N_{\\rm richness} \\times N_z$ richness-redshift plane"
   ]
  },
  {
   "cell_type": "code",
   "execution_count": null,
   "metadata": {},
   "outputs": [],
   "source": [
    "N_richness = 5 # number of richness bins\n",
    "N_z = 4 # number of redshift bins\n",
    "\n",
    "data_lz, z_edges, richness_edges, im  = plt.hist2d(dm_halos['redshift'], dm_halos['richness'],\n",
    "                                       bins=[N_z, N_richness], cmin=1, range=[[0,0.8],[0,100]]);\n",
    "\n",
    "plt.colorbar()"
   ]
  },
  {
   "cell_type": "markdown",
   "metadata": {},
   "source": [
    "## Covariance\n",
    "\n",
    "Here we are using a jackknife resampling method to compute the count covariance from the data (adapted from C. Payerne's [code](https://github.com/LSSTDESC/CLCosmo_Sim/blob/issue/15/binned_cosmological_analysis/cluster_abundance/CL_COUNT_DATAOPS_cluster_abundance_covariance.py) in the CLCosmoSim repo). Eventually, this will be provided by `TJPCov`"
   ]
  },
  {
   "cell_type": "code",
   "execution_count": null,
   "metadata": {},
   "outputs": [],
   "source": [
    "# Adapted from Constantin Payerne's code in the CLCOSMO_sim repo\n",
    "\n",
    "import healpy\n",
    "from itertools import combinations\n",
    "def compute_jackknife_covariance(catalog = None, \n",
    "                                proxy_colname = 'richness', redshift_colname = 'redshift',\n",
    "                                ra_colname = 'ra', dec_colname = 'dec',\n",
    "                                proxy_edges = richness_edges, z_edges = z_edges,        \n",
    "                                hp_power = 7, N_delete = 1):\n",
    "        r\"\"\"\n",
    "        Attributes:\n",
    "        -----------\n",
    "        proxy_colname: str\n",
    "            name of the proxy column\n",
    "        redshift_colname: str\n",
    "            name of the redshift column\n",
    "        ra_colname: str\n",
    "            name of the ra column\n",
    "        dec_colname: str\n",
    "            name of the dec column\n",
    "        proxy_edges: array\n",
    "            edges of the mass proxy bins\n",
    "        z_edges: array\n",
    "            edges of the redshift bins\n",
    "        hp_power: int\n",
    "            defines the number of healpix pixels. Healpix Nside = 2**hp_power\n",
    "        N_delete: int\n",
    "            number of jackknife region to delete each repetition\n",
    "        Returns:\n",
    "        --------\n",
    "        cov_N: array\n",
    "            Jackknife covariance matrix\n",
    "        \"\"\"\n",
    "        proxy, redshift = np.array(catalog[proxy_colname]), np.array(catalog[redshift_colname])\n",
    "        ra, dec =  np.array(catalog[ra_colname]), np.array(catalog[dec_colname])\n",
    "\n",
    "        index = np.arange(len(proxy))\n",
    "        healpix = healpy.ang2pix(2**hp_power, ra, dec, nest=True, lonlat=True)\n",
    "        healpix_list_unique = np.unique(healpix)\n",
    "        print(f'Number of JK regions: {len(healpix_list_unique)}')\n",
    "        healpix_combination_delete = list(combinations(healpix_list_unique, N_delete))\n",
    "        data_jack = []\n",
    "        \n",
    "        for i, hp_list_delete in enumerate(healpix_combination_delete):\n",
    "            if (i/2000.).is_integer():\n",
    "                print(i) # to track progress\n",
    "            mask_in_area = np.isin(healpix, hp_list_delete)\n",
    "            mask_out_area = np.invert(mask_in_area)\n",
    "            data,_,_ = np.histogram2d(redshift[mask_out_area],proxy[mask_out_area],\n",
    "                                            bins=[z_edges, proxy_edges])\n",
    "            data_jack.append(data.flatten())\n",
    "        \n",
    "        data_jack = np.array(data_jack)\n",
    "        N = np.stack((data_jack.astype(float)), axis = 1)\n",
    "        n_jack = len(healpix_combination_delete)\n",
    "        cov_N = (n_jack - 1) * np.cov(N, bias = False,ddof=0)\n",
    "        coeff = (n_jack - N_delete) / (N_delete * n_jack)\n",
    "        \n",
    "        return cov_N * coeff"
   ]
  },
  {
   "cell_type": "code",
   "execution_count": null,
   "metadata": {},
   "outputs": [],
   "source": [
    "covariance = compute_jackknife_covariance(dm_halos)"
   ]
  },
  {
   "cell_type": "markdown",
   "metadata": {},
   "source": [
    "**Correlation matrix - the \"large blocks\" correspond to the $N_z$ redshift bins. In each redshift bin are the $N_{\\rm richness}$ richness bins.**"
   ]
  },
  {
   "cell_type": "code",
   "execution_count": null,
   "metadata": {},
   "outputs": [],
   "source": [
    "plt.imshow(np.corrcoef(covariance))\n",
    "#plt.imshow((covariance))"
   ]
  },
  {
   "cell_type": "markdown",
   "metadata": {},
   "source": [
    "## Store everything in a SACC file"
   ]
  },
  {
   "cell_type": "code",
   "execution_count": null,
   "metadata": {},
   "outputs": [],
   "source": [
    "s_count = sacc.Sacc()"
   ]
  },
  {
   "cell_type": "code",
   "execution_count": null,
   "metadata": {},
   "outputs": [],
   "source": [
    "# First we build the cluster count tracer\n",
    "# Here we will store the richness and redshift bin information in metadata,\n",
    "\n",
    "for i in np.arange(N_z):\n",
    "    for j in np.arange(N_richness):\n",
    "        name = f'clusters_{i}_{j}'\n",
    "        metadata = {'Mproxy_name': 'richness',\n",
    "                    'Mproxy_min': richness_edges[j], 'Mproxy_max': richness_edges[j+1],\n",
    "                    'z_name': 'redshift',\n",
    "                    'z_min': z_edges[i], 'z_max': z_edges[i+1],\n",
    "                    'sky_area': metadata['sky_area']\n",
    "                    \n",
    "        }\n",
    "        s_count.add_tracer('misc', name, metadata=metadata)\n",
    "        "
   ]
  },
  {
   "cell_type": "markdown",
   "metadata": {},
   "source": [
    "### First the count values"
   ]
  },
  {
   "cell_type": "code",
   "execution_count": null,
   "metadata": {},
   "outputs": [],
   "source": [
    "# One of our identifiers is a standard type name that is predefined\n",
    "cluster_count = sacc.standard_types.cluster_mass_count_wl\n",
    "\n",
    "for i in range(N_z): \n",
    "    for j in range(N_richness): \n",
    "        # Cluster number counts data\n",
    "        tracer = f'clusters_{i}_{j}'\n",
    "        value = data_lz[i][j]\n",
    "        s_count.add_data_point(cluster_count, (tracer,), int(value), err=1.)"
   ]
  },
  {
   "cell_type": "code",
   "execution_count": null,
   "metadata": {},
   "outputs": [],
   "source": [
    "for d in s_count.data:\n",
    "    print(d)"
   ]
  },
  {
   "cell_type": "code",
   "execution_count": null,
   "metadata": {},
   "outputs": [],
   "source": [
    "print(s_count.tracers['clusters_0_0'].metadata)\n",
    "print(s_count.tracers['clusters_1_2'].metadata)"
   ]
  },
  {
   "cell_type": "markdown",
   "metadata": {},
   "source": [
    "### Then the add the covariance and save the file"
   ]
  },
  {
   "cell_type": "code",
   "execution_count": null,
   "metadata": {},
   "outputs": [],
   "source": [
    "s_count.add_covariance(covariance)"
   ]
  },
  {
   "cell_type": "code",
   "execution_count": null,
   "metadata": {},
   "outputs": [],
   "source": [
    "s_count.to_canonical_order()\n",
    "s_count.save_fits(\"clusters.sacc\", overwrite=True)"
   ]
  },
  {
   "cell_type": "markdown",
   "metadata": {},
   "source": [
    "## Read in the SACC file and check content"
   ]
  },
  {
   "cell_type": "code",
   "execution_count": null,
   "metadata": {},
   "outputs": [],
   "source": [
    "s2 = sacc.Sacc.load_fits(\"./clusters.sacc\")"
   ]
  },
  {
   "cell_type": "code",
   "execution_count": null,
   "metadata": {},
   "outputs": [],
   "source": [
    "s2.data"
   ]
  },
  {
   "cell_type": "code",
   "execution_count": null,
   "metadata": {},
   "outputs": [],
   "source": [
    "plt.imshow(np.corrcoef(s2.covariance.covmat))"
   ]
  }
 ],
 "metadata": {
  "kernelspec": {
   "display_name": "mydesc",
   "language": "python",
   "name": "mydesc"
  },
  "language_info": {
   "codemirror_mode": {
    "name": "ipython",
    "version": 3
   },
   "file_extension": ".py",
   "mimetype": "text/x-python",
   "name": "python",
   "nbconvert_exporter": "python",
   "pygments_lexer": "ipython3",
   "version": "3.8.8"
  }
 },
 "nbformat": 4,
 "nbformat_minor": 4
}
