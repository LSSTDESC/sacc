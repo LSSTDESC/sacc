{
 "cells": [
  {
   "cell_type": "code",
   "execution_count": 1,
   "metadata": {},
   "outputs": [],
   "source": [
    "import numpy as np\n",
    "import wget\n",
    "import sacc\n",
    "import os"
   ]
  },
  {
   "cell_type": "markdown",
   "metadata": {},
   "source": [
    "# Writing SACC files\n",
    "\n",
    "This notebook illustrates how to create a SACC file from scratch.\n",
    "For this example we will download the BICEP-Keck-Planck 2018 analysis (BK15, https://arxiv.org/pdf/1810.05216.pdf) and transform it into SACC format.\n",
    "Note that reading the BK15 data is slightly convoluted, but this is precisely the type of issue SACC is meant to solve. "
   ]
  },
  {
   "cell_type": "markdown",
   "metadata": {},
   "source": [
    "## Reading the BK15 data\n",
    "\n",
    "We start by downloading the data if we don't have it"
   ]
  },
  {
   "cell_type": "code",
   "execution_count": 2,
   "metadata": {},
   "outputs": [],
   "source": [
    "if not os.path.isfile(\"BK15_cosmomc/BK15_README.txt\"):\n",
    "    wget.download(\"http://bicepkeck.org/BK15_datarelease/BK15_cosmomc.tgz\")\n",
    "    os.system(\"tar -xvf BK15_cosmomc.tgz\")\n",
    "    os.system(\"rm BK15_cosmomc.tgz\")"
   ]
  },
  {
   "cell_type": "markdown",
   "metadata": {},
   "source": [
    "These are the names of the 12 different maps that went into the analysis"
   ]
  },
  {
   "cell_type": "code",
   "execution_count": 3,
   "metadata": {},
   "outputs": [],
   "source": [
    "# Names for the different frequency maps\n",
    "map_names = np.array([\"BK15_95\",\"BK15_150\",\"BK15_220\",\n",
    "                      \"W023\",\"P030\",\"W033\",\"P044\",\n",
    "                      \"P070\",\"P100\",\"P143\",\"P217\",\"P353\"])"
   ]
  },
  {
   "cell_type": "markdown",
   "metadata": {},
   "source": [
    "We start by reading all the **bandpasses**"
   ]
  },
  {
   "cell_type": "code",
   "execution_count": 4,
   "metadata": {},
   "outputs": [],
   "source": [
    "bandpasses = {}\n",
    "for n in map_names:\n",
    "    fname = \"BK15_cosmomc/data/BK15/bandpass_\"+n+\".txt\"\n",
    "    bandpasses[n] = np.loadtxt(fname, unpack=True)"
   ]
  },
  {
   "cell_type": "markdown",
   "metadata": {},
   "source": [
    "Now we read the **data vector** (i.e. the array of D_ell values):"
   ]
  },
  {
   "cell_type": "code",
   "execution_count": 5,
   "metadata": {},
   "outputs": [],
   "source": [
    "dv = np.loadtxt(\"BK15_cosmomc/data/BK15/BK15_cl_hat.dat\",unpack=True)[1:]\n",
    "ncls, nells = dv.shape"
   ]
  },
  {
   "cell_type": "markdown",
   "metadata": {},
   "source": [
    "Now we read all the **bandpower windows**. Note that they are all sampled on the same ell values."
   ]
  },
  {
   "cell_type": "code",
   "execution_count": 6,
   "metadata": {},
   "outputs": [],
   "source": [
    "ls = np.loadtxt(\"BK15_cosmomc/data/BK15/windows/BK15_bpwf_bin1.txt\",unpack=True)[0]\n",
    "windows=np.array([np.loadtxt(\"BK15_cosmomc/data/BK15/windows/BK15_bpwf_bin%d.txt\"%(i+1),\n",
    "                             unpack=True)[1:]\n",
    "                  for i in range(nells)])"
   ]
  },
  {
   "cell_type": "markdown",
   "metadata": {},
   "source": [
    "Finally, we read the **covariance matrix** and put it in the right order"
   ]
  },
  {
   "cell_type": "code",
   "execution_count": 7,
   "metadata": {},
   "outputs": [],
   "source": [
    "cov_raw = np.loadtxt(\"BK15_cosmomc/data/BK15/BK15_covmat_dust.dat\", unpack=True)\n",
    "cov = np.transpose(cov_raw.reshape([nells,ncls,nells,ncls]),\n",
    "                   axes=[1,0,3,2]).reshape([nells*ncls,nells*ncls])"
   ]
  },
  {
   "cell_type": "markdown",
   "metadata": {},
   "source": [
    "OK, this is the **order** in which all the BK15 data is stored.\n",
    "Right now we need to read this off a txt file and parse it. Since there are 300 possible cross-correlations, this is a huge kerfuffle, hence SACC."
   ]
  },
  {
   "cell_type": "code",
   "execution_count": 8,
   "metadata": {},
   "outputs": [],
   "source": [
    "corr_ordering=np.array([['BK15_95_E','BK15_95_E'],['BK15_95_B','BK15_95_B'],['BK15_150_E','BK15_150_E'],\n",
    "                        ['BK15_150_B','BK15_150_B'],['BK15_220_E','BK15_220_E'],['BK15_220_B','BK15_220_B'],\n",
    "                        ['W023_E','W023_E'],['W023_B','W023_B'],['P030_E','P030_E'],['P030_B','P030_B'],\n",
    "                        ['W033_E','W033_E'],['W033_B','W033_B'],['P044_E','P044_E'],['P044_B','P044_B'],\n",
    "                        ['P070_E','P070_E'],['P070_B','P070_B'],['P100_E','P100_E'],['P100_B','P100_B'],\n",
    "                        ['P143_E','P143_E'],['P143_B','P143_B'],['P217_E','P217_E'],['P217_B','P217_B'],\n",
    "                        ['P353_E','P353_E'],['P353_B','P353_B'],['BK15_95_E','BK15_95_B'],\n",
    "                        ['BK15_95_B','BK15_150_E'],['BK15_150_E','BK15_150_B'],['BK15_150_B','BK15_220_E'],\n",
    "                        ['BK15_220_E','BK15_220_B'],['BK15_220_B','W023_E'],['W023_E','W023_B'],\n",
    "                        ['W023_B','P030_E'],['P030_E','P030_B'],['P030_B','W033_E'],['W033_E','W033_B'],\n",
    "                        ['W033_B','P044_E'],['P044_E','P044_B'],['P044_B','P070_E'],['P070_E','P070_B'],\n",
    "                        ['P070_B','P100_E'],['P100_E','P100_B'],['P100_B','P143_E'],['P143_E','P143_B'],\n",
    "                        ['P143_B','P217_E'],['P217_E','P217_B'],['P217_B','P353_E'],['P353_E','P353_B'],\n",
    "                        ['BK15_95_E','BK15_150_E'],['BK15_95_B','BK15_150_B'],['BK15_150_E','BK15_220_E'],\n",
    "                        ['BK15_150_B','BK15_220_B'],['BK15_220_E','W023_E'],['BK15_220_B','W023_B'],\n",
    "                        ['W023_E','P030_E'],['W023_B','P030_B'],['P030_E','W033_E'],['P030_B','W033_B'],\n",
    "                        ['W033_E','P044_E'],['W033_B','P044_B'],['P044_E','P070_E'],['P044_B','P070_B'],\n",
    "                        ['P070_E','P100_E'],['P070_B','P100_B'],['P100_E','P143_E'],['P100_B','P143_B'],\n",
    "                        ['P143_E','P217_E'],['P143_B','P217_B'],['P217_E','P353_E'],['P217_B','P353_B'],\n",
    "                        ['BK15_95_E','BK15_150_B'],['BK15_95_B','BK15_220_E'],['BK15_150_E','BK15_220_B'],\n",
    "                        ['BK15_150_B','W023_E'],['BK15_220_E','W023_B'],['BK15_220_B','P030_E'],\n",
    "                        ['W023_E','P030_B'],['W023_B','W033_E'],['P030_E','W033_B'],['P030_B','P044_E'],\n",
    "                        ['W033_E','P044_B'],['W033_B','P070_E'],['P044_E','P070_B'],['P044_B','P100_E'],\n",
    "                        ['P070_E','P100_B'],['P070_B','P143_E'],['P100_E','P143_B'],['P100_B','P217_E'],\n",
    "                        ['P143_E','P217_B'],['P143_B','P353_E'],['P217_E','P353_B'],['BK15_95_E','BK15_220_E'],\n",
    "                        ['BK15_95_B','BK15_220_B'],['BK15_150_E','W023_E'],['BK15_150_B','W023_B'],\n",
    "                        ['BK15_220_E','P030_E'],['BK15_220_B','P030_B'],['W023_E','W033_E'],['W023_B','W033_B'],\n",
    "                        ['P030_E','P044_E'],['P030_B','P044_B'],['W033_E','P070_E'],['W033_B','P070_B'],\n",
    "                        ['P044_E','P100_E'],['P044_B','P100_B'],['P070_E','P143_E'],['P070_B','P143_B'],\n",
    "                        ['P100_E','P217_E'],['P100_B','P217_B'],['P143_E','P353_E'],['P143_B','P353_B'],\n",
    "                        ['BK15_95_E','BK15_220_B'],['BK15_95_B','W023_E'],['BK15_150_E','W023_B'],\n",
    "                        ['BK15_150_B','P030_E'],['BK15_220_E','P030_B'],['BK15_220_B','W033_E'],\n",
    "                        ['W023_E','W033_B'],['W023_B','P044_E'],['P030_E','P044_B'],['P030_B','P070_E'],\n",
    "                        ['W033_E','P070_B'],['W033_B','P100_E'],['P044_E','P100_B'],['P044_B','P143_E'],\n",
    "                        ['P070_E','P143_B'],['P070_B','P217_E'],['P100_E','P217_B'],['P100_B','P353_E'],\n",
    "                        ['P143_E','P353_B'],['BK15_95_E','W023_E'],['BK15_95_B','W023_B'],\n",
    "                        ['BK15_150_E','P030_E'],['BK15_150_B','P030_B'],['BK15_220_E','W033_E'],\n",
    "                        ['BK15_220_B','W033_B'],['W023_E','P044_E'],['W023_B','P044_B'],['P030_E','P070_E'],\n",
    "                        ['P030_B','P070_B'],['W033_E','P100_E'],['W033_B','P100_B'],['P044_E','P143_E'],\n",
    "                        ['P044_B','P143_B'],['P070_E','P217_E'],['P070_B','P217_B'],['P100_E','P353_E'],\n",
    "                        ['P100_B','P353_B'],['BK15_95_E','W023_B'],['BK15_95_B','P030_E'],\n",
    "                        ['BK15_150_E','P030_B'],['BK15_150_B','W033_E'],['BK15_220_E','W033_B'],\n",
    "                        ['BK15_220_B','P044_E'],['W023_E','P044_B'],['W023_B','P070_E'],['P030_E','P070_B'],\n",
    "                        ['P030_B','P100_E'],['W033_E','P100_B'],['W033_B','P143_E'],['P044_E','P143_B'],\n",
    "                        ['P044_B','P217_E'],['P070_E','P217_B'],['P070_B','P353_E'],['P100_E','P353_B'],\n",
    "                        ['BK15_95_E','P030_E'],['BK15_95_B','P030_B'],['BK15_150_E','W033_E'],\n",
    "                        ['BK15_150_B','W033_B'],['BK15_220_E','P044_E'],['BK15_220_B','P044_B'],\n",
    "                        ['W023_E','P070_E'],['W023_B','P070_B'],['P030_E','P100_E'],['P030_B','P100_B'],\n",
    "                        ['W033_E','P143_E'],['W033_B','P143_B'],['P044_E','P217_E'],['P044_B','P217_B'],\n",
    "                        ['P070_E','P353_E'],['P070_B','P353_B'],['BK15_95_E','P030_B'],['BK15_95_B','W033_E'],\n",
    "                        ['BK15_150_E','W033_B'],['BK15_150_B','P044_E'],['BK15_220_E','P044_B'],\n",
    "                        ['BK15_220_B','P070_E'],['W023_E','P070_B'],['W023_B','P100_E'],['P030_E','P100_B'],\n",
    "                        ['P030_B','P143_E'],['W033_E','P143_B'],['W033_B','P217_E'],['P044_E','P217_B'],\n",
    "                        ['P044_B','P353_E'],['P070_E','P353_B'],['BK15_95_E','W033_E'],['BK15_95_B','W033_B'],\n",
    "                        ['BK15_150_E','P044_E'],['BK15_150_B','P044_B'],['BK15_220_E','P070_E'],\n",
    "                        ['BK15_220_B','P070_B'],['W023_E','P100_E'],['W023_B','P100_B'],['P030_E','P143_E'],\n",
    "                        ['P030_B','P143_B'],['W033_E','P217_E'],['W033_B','P217_B'],['P044_E','P353_E'],\n",
    "                        ['P044_B','P353_B'],['BK15_95_E','W033_B'],['BK15_95_B','P044_E'],['BK15_150_E','P044_B'],\n",
    "                        ['BK15_150_B','P070_E'],['BK15_220_E','P070_B'],['BK15_220_B','P100_E'],\n",
    "                        ['W023_E','P100_B'],['W023_B','P143_E'],['P030_E','P143_B'],['P030_B','P217_E'],\n",
    "                        ['W033_E','P217_B'],['W033_B','P353_E'],['P044_E','P353_B'],['BK15_95_E','P044_E'],\n",
    "                        ['BK15_95_B','P044_B'],['BK15_150_E','P070_E'],['BK15_150_B','P070_B'],\n",
    "                        ['BK15_220_E','P100_E'],['BK15_220_B','P100_B'],['W023_E','P143_E'],['W023_B','P143_B'],\n",
    "                        ['P030_E','P217_E'],['P030_B','P217_B'],['W033_E','P353_E'],['W033_B','P353_B'],\n",
    "                        ['BK15_95_E','P044_B'],['BK15_95_B','P070_E'],['BK15_150_E','P070_B'],\n",
    "                        ['BK15_150_B','P100_E'],['BK15_220_E','P100_B'],['BK15_220_B','P143_E'],\n",
    "                        ['W023_E','P143_B'],['W023_B','P217_E'],['P030_E','P217_B'],['P030_B','P353_E'],\n",
    "                        ['W033_E','P353_B'],['BK15_95_E','P070_E'],['BK15_95_B','P070_B'],['BK15_150_E','P100_E'],\n",
    "                        ['BK15_150_B','P100_B'],['BK15_220_E','P143_E'],['BK15_220_B','P143_B'],\n",
    "                        ['W023_E','P217_E'],['W023_B','P217_B'],['P030_E','P353_E'],['P030_B','P353_B'],\n",
    "                        ['BK15_95_E','P070_B'],['BK15_95_B','P100_E'],['BK15_150_E','P100_B'],\n",
    "                        ['BK15_150_B','P143_E'],['BK15_220_E','P143_B'],['BK15_220_B','P217_E'],\n",
    "                        ['W023_E','P217_B'],['W023_B','P353_E'],['P030_E','P353_B'],['BK15_95_E','P100_E'],\n",
    "                        ['BK15_95_B','P100_B'],['BK15_150_E','P143_E'],['BK15_150_B','P143_B'],\n",
    "                        ['BK15_220_E','P217_E'],['BK15_220_B','P217_B'],['W023_E','P353_E'],\n",
    "                        ['W023_B','P353_B'],['BK15_95_E','P100_B'],['BK15_95_B','P143_E'],['BK15_150_E','P143_B'],\n",
    "                        ['BK15_150_B','P217_E'],['BK15_220_E','P217_B'],['BK15_220_B','P353_E'],\n",
    "                        ['W023_E','P353_B'],['BK15_95_E','P143_E'],['BK15_95_B','P143_B'],\n",
    "                        ['BK15_150_E','P217_E'],['BK15_150_B','P217_B'],['BK15_220_E','P353_E'],\n",
    "                        ['BK15_220_B','P353_B'],['BK15_95_E','P143_B'],['BK15_95_B','P217_E'],\n",
    "                        ['BK15_150_E','P217_B'],['BK15_150_B','P353_E'],['BK15_220_E','P353_B'],\n",
    "                        ['BK15_95_E','P217_E'],['BK15_95_B','P217_B'],['BK15_150_E','P353_E'],\n",
    "                        ['BK15_150_B','P353_B'],['BK15_95_E','P217_B'],['BK15_95_B','P353_E'],\n",
    "                        ['BK15_150_E','P353_B'],['BK15_95_E','P353_E'],['BK15_95_B','P353_B'],\n",
    "                        ['BK15_95_E','P353_B']])\n"
   ]
  },
  {
   "cell_type": "markdown",
   "metadata": {},
   "source": [
    "## Creating a SACC file\n",
    "\n",
    "Now the fun part. Let's start by creating an empty SACC object.                                                                                                                                                  "
   ]
  },
  {
   "cell_type": "code",
   "execution_count": 9,
   "metadata": {},
   "outputs": [],
   "source": [
    "s = sacc.Sacc()"
   ]
  },
  {
   "cell_type": "markdown",
   "metadata": {},
   "source": [
    "Now we add all frequency maps as individual `tracers`."
   ]
  },
  {
   "cell_type": "code",
   "execution_count": 10,
   "metadata": {},
   "outputs": [],
   "source": [
    "for n in map_names:\n",
    "    # The information about each frequency map will become a 'NuMap' tracer object.\n",
    "    # These are defined by a bandpass and a beam.\n",
    "    # Since we don't have beam information, we'll make something up.\n",
    "    ell = np.linspace(2,1000,10)\n",
    "    bell = np.ones_like(ell)\n",
    "    # Bandpass data:\n",
    "    nu = bandpasses[n][0]\n",
    "    bnu = bandpasses[n][1]\n",
    "    # We can also pass additional information, such as bandpass or beam uncertainties.\n",
    "    # E.g. let's say we have ~1% uncertainties on them.\n",
    "    bnu_extra = {'error' : 0.01*bnu}\n",
    "    bell_extra = {'error' : 0.01*bell}\n",
    "    \n",
    "    s.add_tracer('NuMap', n,  # Name\n",
    "                 quantity='cmb_polarization',  # Quantity\n",
    "                 spin=2,  # Spin\n",
    "                 nu=nu, bandpass=bnu,  # Bandpass data\n",
    "                 ell=ell, beam=bell,  # Beam data\n",
    "                 bandpass_extra=bnu_extra,  # Additional bandpass data\n",
    "                 beam_extra=bell_extra,  # Additional beam data\n",
    "                 nu_unit='GHz',  # Frequency units\n",
    "                 map_unit='uK_CMB')  # Map units"
   ]
  },
  {
   "cell_type": "markdown",
   "metadata": {},
   "source": [
    "Now we add all power spectra one by one"
   ]
  },
  {
   "cell_type": "code",
   "execution_count": 11,
   "metadata": {},
   "outputs": [],
   "source": [
    "# Now we add all power spectra\n",
    "for ix, xc in enumerate(corr_ordering):\n",
    "    t1, t2 = xc\n",
    "    # Possible data types for power spectra:\n",
    "    # cl_ee, cl_eb, cl_be, cl_bb\n",
    "    # Additional ones:\n",
    "    #  - cl_00 (TT-like, mathematically equivalent to cl_ee)\n",
    "    #  - cl_0e (TE-like, mathematically equivalent to cl_ee)\n",
    "    #  - cl_0b (TE-like, mathematically equivalent to cl_eb)\n",
    "    # There are similar types for real-space correlations.\n",
    "    data_type = 'cl_'+t1[-1].lower()+t2[-1].lower()\n",
    "\n",
    "    # Let's compute the effective multipole by averaging over the bandpower\n",
    "    wins_arr = windows[:, ix, :]\n",
    "    l_eff = np.sum(wins_arr * ls[None,:], axis=1)/np.sum(wins_arr,axis=1)\n",
    "\n",
    "    # Define SACC window functions\n",
    "    wins = sacc.BandpowerWindow(ls, wins_arr.T)\n",
    "\n",
    "    # Add power spectrum\n",
    "    s.add_ell_cl(data_type,  # Data type\n",
    "                 t1[:-2],  # 1st tracer's name\n",
    "                 t2[:-2],  # 2nd tracer's name\n",
    "                 l_eff,  # Effective multipole\n",
    "                 dv[ix],  # Power spectrum values\n",
    "                 window=wins,  # Bandpower windows\n",
    "                )"
   ]
  },
  {
   "cell_type": "markdown",
   "metadata": {},
   "source": [
    "Finally, we add the covariance matrix.\n",
    "The covariance must be passed in exactly the same order in which the data vector was added."
   ]
  },
  {
   "cell_type": "code",
   "execution_count": 12,
   "metadata": {},
   "outputs": [],
   "source": [
    "s.add_covariance(cov)"
   ]
  },
  {
   "cell_type": "markdown",
   "metadata": {},
   "source": [
    "Alrighty, let's save it!"
   ]
  },
  {
   "cell_type": "code",
   "execution_count": 13,
   "metadata": {},
   "outputs": [],
   "source": [
    "s.save_fits(\"BK15.fits\", overwrite=True)"
   ]
  },
  {
   "cell_type": "code",
   "execution_count": null,
   "metadata": {},
   "outputs": [],
   "source": []
  }
 ],
 "metadata": {
  "kernelspec": {
   "display_name": "Python 3",
   "language": "python",
   "name": "python3"
  },
  "language_info": {
   "codemirror_mode": {
    "name": "ipython",
    "version": 3
   },
   "file_extension": ".py",
   "mimetype": "text/x-python",
   "name": "python",
   "nbconvert_exporter": "python",
   "pygments_lexer": "ipython3",
   "version": "3.6.8"
  }
 },
 "nbformat": 4,
 "nbformat_minor": 2
}
