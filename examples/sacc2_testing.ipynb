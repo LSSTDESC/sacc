{
 "cells": [
  {
   "cell_type": "code",
   "execution_count": 1,
   "metadata": {},
   "outputs": [
    {
     "name": "stdout",
     "output_type": "stream",
     "text": [
      "Requirement already satisfied: twopoint in /usr/local/lib/python3.6/site-packages (1.0)\r\n"
     ]
    }
   ],
   "source": [
    "# We will need the two point library\n",
    "!pip install twopoint"
   ]
  },
  {
   "cell_type": "code",
   "execution_count": 2,
   "metadata": {},
   "outputs": [],
   "source": [
    "import sys\n",
    "sys.path.append(\"..\")\n",
    "import sacc"
   ]
  },
  {
   "cell_type": "code",
   "execution_count": 3,
   "metadata": {},
   "outputs": [
    {
     "name": "stdout",
     "output_type": "stream",
     "text": [
      "--2018-11-29 10:15:33--  http://desdr-server.ncsa.illinois.edu/despublic/y1a1_files/chains/2pt_NG_mcal_1110.fits\n",
      "Resolving desdr-server.ncsa.illinois.edu... 141.142.161.38\n",
      "Connecting to desdr-server.ncsa.illinois.edu|141.142.161.38|:80... connected.\n",
      "HTTP request sent, awaiting response... 200 OK\n",
      "Length: 6600960 (6.3M) [application/octet-stream]\n",
      "Saving to: ‘2pt_NG_mcal_1110.fits.1’\n",
      "\n",
      "2pt_NG_mcal_1110.fi 100%[===================>]   6.29M  1.60MB/s    in 5.1s    \n",
      "\n",
      "2018-11-29 10:15:38 (1.24 MB/s) - ‘2pt_NG_mcal_1110.fits.1’ saved [6600960/6600960]\n",
      "\n"
     ]
    }
   ],
   "source": [
    "# Get an example data file to convert to sacc format.\n",
    "# This is in the two point format\n",
    "!wget http://desdr-server.ncsa.illinois.edu/despublic/y1a1_files/chains/2pt_NG_mcal_1110.fits"
   ]
  },
  {
   "cell_type": "code",
   "execution_count": 4,
   "metadata": {},
   "outputs": [],
   "source": [
    "import twopoint\n",
    "T = twopoint.TwoPointFile.from_fits(\"./2pt_NG_mcal_1110.fits\")"
   ]
  },
  {
   "cell_type": "code",
   "execution_count": 5,
   "metadata": {},
   "outputs": [],
   "source": [
    "# Example of making a sacc file\n",
    "\n",
    "def make_sacc():\n",
    "    S = sacc.Sacc()\n",
    "    for kernel in T.kernels:\n",
    "        for i in range(kernel.nbin):\n",
    "            tracer_type = 'NZ'\n",
    "            name = f'{kernel.name}_{i}'\n",
    "            S.add_tracer(tracer_type, name, kernel.z, kernel.nzs[i])\n",
    "\n",
    "    # translation from twopoint type codes to sacc type codes:\n",
    "    table = {\n",
    "        (twopoint.Types.galaxy_shear_plus_real, twopoint.Types.galaxy_shear_plus_real): 'xi_plus',\n",
    "        (twopoint.Types.galaxy_shear_minus_real, twopoint.Types.galaxy_shear_minus_real): 'xi_minus',\n",
    "        (twopoint.Types.galaxy_position_real, twopoint.Types.galaxy_position_real): 'w_theta',\n",
    "        (twopoint.Types.galaxy_position_real, twopoint.Types.galaxy_shear_plus_real): 'gamma_t',\n",
    "    }\n",
    "\n",
    "    for spectrum in T.spectra:\n",
    "        data_type = table[(spectrum.type1, spectrum.type2)]\n",
    "        angle_unit = spectrum.angle_unit\n",
    "        tracer1 = spectrum.kernel1\n",
    "        tracer2 = spectrum.kernel2\n",
    "        for i in range(len(spectrum)):\n",
    "            bin1 = spectrum.bin1[i] - 1\n",
    "            bin2 = spectrum.bin2[i] - 1\n",
    "            tracers = [f'{tracer1}_{bin1}', f'{tracer2}_{bin2}']\n",
    "            value = spectrum.value[i]\n",
    "            angle = spectrum.angle[i]\n",
    "            tags = {'scale':angle, 'scale_unit':angle_unit}\n",
    "            S.add_data_point(data_type, tracers, value, **tags)\n",
    "    return S"
   ]
  },
  {
   "cell_type": "code",
   "execution_count": 6,
   "metadata": {},
   "outputs": [
    {
     "name": "stdout",
     "output_type": "stream",
     "text": [
      "[40 41 42 43 44 45 46 47 48 49 50 51 52 53 54 55 56 57 58 59]\n",
      "[56 57 58 59]\n",
      "Mask the covariance too!\n",
      "[40 41 42 43 44 45 46 47 48 49 50 51 52 53 54 55]\n"
     ]
    },
    {
     "data": {
      "text/plain": [
       "array([0.0051, 0.0151, 0.0251, 0.0351, 0.0451, 0.0551, 0.0651, 0.0751,\n",
       "       0.0851, 0.0951, 0.1051, 0.1151, 0.1251, 0.1351, 0.1451, 0.1551,\n",
       "       0.1651, 0.1751, 0.1851, 0.1951, 0.2051, 0.2151, 0.2251, 0.2351,\n",
       "       0.2451, 0.2551, 0.2651, 0.2751, 0.2851, 0.2951, 0.3051, 0.3151,\n",
       "       0.3251, 0.3351, 0.3451, 0.3551, 0.3651, 0.3751, 0.3851, 0.3951,\n",
       "       0.4051, 0.4151, 0.4251, 0.4351, 0.4451, 0.4551, 0.4651, 0.4751,\n",
       "       0.4851, 0.4951, 0.5051, 0.5151, 0.5251, 0.5351, 0.5451, 0.5551,\n",
       "       0.5651, 0.5751, 0.5851, 0.5951, 0.6051, 0.6151, 0.6251, 0.6351,\n",
       "       0.6451, 0.6551, 0.6651, 0.6751, 0.6851, 0.6951, 0.7051, 0.7151,\n",
       "       0.7251, 0.7351, 0.7451, 0.7551, 0.7651, 0.7751, 0.7851, 0.7951,\n",
       "       0.8051, 0.8151, 0.8251, 0.8351, 0.8451, 0.8551, 0.8651, 0.8751,\n",
       "       0.8851, 0.8951, 0.9051, 0.9151, 0.9251, 0.9351, 0.9451, 0.9551,\n",
       "       0.9651, 0.9751, 0.9851, 0.9951, 1.0051, 1.0151, 1.0251, 1.0351,\n",
       "       1.0451, 1.0551, 1.0651, 1.0751, 1.0851, 1.0951, 1.1051, 1.1151,\n",
       "       1.1251, 1.1351, 1.1451, 1.1551, 1.1651, 1.1751, 1.1851, 1.1951,\n",
       "       1.2051, 1.2151, 1.2251, 1.2351, 1.2451, 1.2551, 1.2651, 1.2751,\n",
       "       1.2851, 1.2951, 1.3051, 1.3151, 1.3251, 1.3351, 1.3451, 1.3551,\n",
       "       1.3651, 1.3751, 1.3851, 1.3951, 1.4051, 1.4151, 1.4251, 1.4351,\n",
       "       1.4451, 1.4551, 1.4651, 1.4751, 1.4851, 1.4951, 1.5051, 1.5151,\n",
       "       1.5251, 1.5351, 1.5451, 1.5551, 1.5651, 1.5751, 1.5851, 1.5951,\n",
       "       1.6051, 1.6151, 1.6251, 1.6351, 1.6451, 1.6551, 1.6651, 1.6751,\n",
       "       1.6851, 1.6951, 1.7051, 1.7151, 1.7251, 1.7351, 1.7451, 1.7551,\n",
       "       1.7651, 1.7751, 1.7851, 1.7951, 1.8051, 1.8151, 1.8251, 1.8351,\n",
       "       1.8451, 1.8551, 1.8651, 1.8751, 1.8851, 1.8951, 1.9051, 1.9151,\n",
       "       1.9251, 1.9351, 1.9451, 1.9551, 1.9651, 1.9751, 1.9851, 1.9951,\n",
       "       2.0051, 2.0151, 2.0251, 2.0351, 2.0451, 2.0551, 2.0651, 2.0751,\n",
       "       2.0851, 2.0951, 2.1051, 2.1151, 2.1251, 2.1351, 2.1451, 2.1551,\n",
       "       2.1651, 2.1751, 2.1851, 2.1951, 2.2051, 2.2151, 2.2251, 2.2351,\n",
       "       2.2451, 2.2551, 2.2651, 2.2751, 2.2851, 2.2951, 2.3051, 2.3151,\n",
       "       2.3251, 2.3351, 2.3451, 2.3551, 2.3651, 2.3751, 2.3851, 2.3951,\n",
       "       2.4051, 2.4151, 2.4251, 2.4351, 2.4451, 2.4551, 2.4651, 2.4751,\n",
       "       2.4851, 2.4951, 2.5051, 2.5151, 2.5251, 2.5351, 2.5451, 2.5551,\n",
       "       2.5651, 2.5751, 2.5851, 2.5951, 2.6051, 2.6151, 2.6251, 2.6351,\n",
       "       2.6451, 2.6551, 2.6651, 2.6751, 2.6851, 2.6951, 2.7051, 2.7151,\n",
       "       2.7251, 2.7351, 2.7451, 2.7551, 2.7651, 2.7751, 2.7851, 2.7951,\n",
       "       2.8051, 2.8151, 2.8251, 2.8351, 2.8451, 2.8551, 2.8651, 2.8751,\n",
       "       2.8851, 2.8951, 2.9051, 2.9151, 2.9251, 2.9351, 2.9451, 2.9551,\n",
       "       2.9651, 2.9751, 2.9851, 2.9951, 3.0051, 3.0151, 3.0251, 3.0351,\n",
       "       3.0451, 3.0551, 3.0651, 3.0751, 3.0851, 3.0951, 3.1051, 3.1151,\n",
       "       3.1251, 3.1351, 3.1451, 3.1551, 3.1651, 3.1751, 3.1851, 3.1951,\n",
       "       3.2051, 3.2151, 3.2251, 3.2351, 3.2451, 3.2551, 3.2651, 3.2751,\n",
       "       3.2851, 3.2951, 3.3051, 3.3151, 3.3251, 3.3351, 3.3451, 3.3551,\n",
       "       3.3651, 3.3751, 3.3851, 3.3951, 3.4051, 3.4151, 3.4251, 3.4351,\n",
       "       3.4451, 3.4551, 3.4651, 3.4751, 3.4851, 3.4951, 3.5051, 3.5151,\n",
       "       3.5251, 3.5351, 3.5451, 3.5551, 3.5651, 3.5751, 3.5851, 3.5951,\n",
       "       3.6051, 3.6151, 3.6251, 3.6351, 3.6451, 3.6551, 3.6651, 3.6751,\n",
       "       3.6851, 3.6951, 3.7051, 3.7151, 3.7251, 3.7351, 3.7451, 3.7551,\n",
       "       3.7651, 3.7751, 3.7851, 3.7951, 3.8051, 3.8151, 3.8251, 3.8351,\n",
       "       3.8451, 3.8551, 3.8651, 3.8751, 3.8851, 3.8951, 3.9051, 3.9151,\n",
       "       3.9251, 3.9351, 3.9451, 3.9551, 3.9651, 3.9751, 3.9851, 3.9951])"
      ]
     },
     "execution_count": 6,
     "metadata": {},
     "output_type": "execute_result"
    }
   ],
   "source": [
    "\n",
    "S = make_sacc()\n",
    "\n",
    "\n",
    "ind1 = S.indices(data_type='xi_plus', tracers=('nz_source_0', 'nz_source_2'))\n",
    "ind2 = S.indices(data_type='xi_plus', tracers=['nz_source_0', 'nz_source_2'], scale__gt=100.0)\n",
    "print(ind1)\n",
    "print(ind2)\n",
    "S.cut(ind2)\n",
    "ind3 = S.indices(data_type='xi_plus', tracers=['nz_source_0', 'nz_source_2'])\n",
    "print(ind3)\n",
    "S.data[0]\n",
    "S.tracers['nz_source_0'].z"
   ]
  },
  {
   "cell_type": "code",
   "execution_count": 277,
   "metadata": {},
   "outputs": [
    {
     "data": {
      "text/plain": [
       "896"
      ]
     },
     "execution_count": 277,
     "metadata": {},
     "output_type": "execute_result"
    }
   ],
   "source": [
    "len(S.data)"
   ]
  },
  {
   "cell_type": "code",
   "execution_count": 271,
   "metadata": {},
   "outputs": [
    {
     "data": {
      "text/plain": [
       "array([56, 57, 58, 59])"
      ]
     },
     "execution_count": 271,
     "metadata": {},
     "output_type": "execute_result"
    }
   ],
   "source": [
    "ind2"
   ]
  },
  {
   "cell_type": "code",
   "execution_count": null,
   "metadata": {},
   "outputs": [],
   "source": []
  }
 ],
 "metadata": {
  "kernelspec": {
   "display_name": "Python 3",
   "language": "python",
   "name": "python3"
  },
  "language_info": {
   "codemirror_mode": {
    "name": "ipython",
    "version": 3
   },
   "file_extension": ".py",
   "mimetype": "text/x-python",
   "name": "python",
   "nbconvert_exporter": "python",
   "pygments_lexer": "ipython3",
   "version": "3.6.5"
  }
 },
 "nbformat": 4,
 "nbformat_minor": 2
}
