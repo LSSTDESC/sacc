{
 "cells": [
  {
   "cell_type": "code",
   "execution_count": 1,
   "metadata": {},
   "outputs": [],
   "source": [
    "import sacc\n",
    "from sacc import Sacc, standard_types\n",
    "import twopoint\n",
    "from twopoint import Types"
   ]
  },
  {
   "cell_type": "markdown",
   "metadata": {},
   "source": [
    "Load in the sacc data file from fits method"
   ]
  },
  {
   "cell_type": "code",
   "execution_count": 2,
   "metadata": {},
   "outputs": [],
   "source": [
    "path = 'your_path'\n",
    "filename = 'summary_statistics_real'\n",
    "s = sacc.Sacc.load_fits(path+filename+'.sacc')"
   ]
  },
  {
   "cell_type": "markdown",
   "metadata": {},
   "source": [
    "This table converts the type codes used in sacc to twopoint names"
   ]
  },
  {
   "cell_type": "code",
   "execution_count": 3,
   "metadata": {},
   "outputs": [],
   "source": [
    "types = {\n",
    "    standard_types.galaxy_shear_xi_plus: (Types.galaxy_shear_plus_real, Types.galaxy_shear_plus_real),\n",
    "    standard_types.galaxy_shear_xi_minus: (Types.galaxy_shear_minus_real, Types.galaxy_shear_minus_real),\n",
    "    standard_types.galaxy_shearDensity_xi_t: (Types.galaxy_position_real, Types.galaxy_shear_plus_real),\n",
    "    standard_types.galaxy_density_xi: (Types.galaxy_position_real, Types.galaxy_position_real),\n",
    "}"
   ]
  },
  {
   "cell_type": "markdown",
   "metadata": {},
   "source": [
    "Use builder class from twopoint to build file interating overdata points."
   ]
  },
  {
   "cell_type": "code",
   "execution_count": 4,
   "metadata": {},
   "outputs": [],
   "source": [
    "builder = twopoint.SpectrumCovarianceBuilder()\n",
    "for dt in s.get_data_types():\n",
    "    data = s.get_data_points(dt)\n",
    "    angbin = 0\n",
    "    ang_array = [0]\n",
    "    for datapoint in data:\n",
    "        stype1 = types[datapoint.data_type][0]\n",
    "        stype2 = types[datapoint.data_type][1]\n",
    "        #In sacc we make a new tracer for each bin whereas in \n",
    "        # TwoPoint n(z) kernels are grouped into general types. \n",
    "        if 'lens_' in datapoint.tracers[0]: kernel1 = 'NZ_LENS'\n",
    "        if 'lens_' in datapoint.tracers[1]: kernel2 = 'NZ_LENS'  \n",
    "        if 'source_' in datapoint.tracers[0]: kernel1 = 'NZ_SOURCE'\n",
    "        if 'source_' in datapoint.tracers[1]: kernel2 = 'NZ_SOURCE' \n",
    "        \n",
    "        # get redshift bin number from the tracers information in sacc\n",
    "        bin1 = int(datapoint.tracers[0][-1]) + 1\n",
    "        bin2 = int(datapoint.tracers[1][-1]) + 1\n",
    "        value = datapoint.value\n",
    "        # for some reason some variables need to be called as dictionaries\n",
    "        # instead of atributes\n",
    "        ang = datapoint['theta']\n",
    "        # Check whether to reset the angular bin to 1 or sum 1. \n",
    "        if ang < ang_array[-1]: \n",
    "            angbin = 1\n",
    "        else:\n",
    "            angbin +=1\n",
    "        ang_array.append(ang)\n",
    "        #print(kernel1,kernel2, bin1, bin2, ang, angbin)\n",
    "        builder.add_data_point(kernel1,kernel2,stype1,stype2,bin1+1,bin2+1,ang,angbin,value)\n",
    "        \n",
    "# Define names of the spectra, might need tweaking      \n",
    "names = {builder.types[0]:\"wtheta\", builder.types[1]:\"gammat\", builder.types[2]:\"xim\", builder.types[3]:\"xip\"}\n",
    "builder.set_names(names)\n",
    "\n",
    "# Load and add covariance\n",
    "covmat = s.covariance.covmat\n",
    "\n",
    "# Bulding spectra and conv matrix objects\n",
    "spectra, covmat_info = builder.generate(covmat,\"arcmin\")"
   ]
  },
  {
   "cell_type": "markdown",
   "metadata": {},
   "source": [
    "Create the number density objects not created using the builder class"
   ]
  },
  {
   "cell_type": "code",
   "execution_count": 5,
   "metadata": {},
   "outputs": [],
   "source": [
    "nzs_l = []\n",
    "nzs_s = []\n",
    "for tracername in s.tracers:\n",
    "    tracer = s.get_tracer(tracername)\n",
    "    if 'lens' in tracername:\n",
    "        z_l = tracer.z\n",
    "        nzs_l.append(tracer.nz)\n",
    "    if 'source' in tracername:\n",
    "        z_s = tracer.z\n",
    "        nzs_s.append(tracer.nz)\n",
    "\n",
    "def zlow(z):\n",
    "    return z - (z[1] - z[0])/2.\n",
    "\n",
    "def zhigh(z):\n",
    "    return z + (z[1] - z[0])/2.\n",
    "\n",
    "nz_lens = twopoint.NumberDensity('NZ_LENS', zlow(z_l), z_l, zhigh(z_l), nzs_l)\n",
    "nz_source = twopoint.NumberDensity('NZ_SOURCE', zlow(z_s), z_s, zhigh(z_s), nzs_s)"
   ]
  },
  {
   "cell_type": "markdown",
   "metadata": {},
   "source": [
    "Create then TwoPointFile Object to save to fits file"
   ]
  },
  {
   "cell_type": "code",
   "execution_count": 7,
   "metadata": {},
   "outputs": [],
   "source": [
    "twopointfile = twopoint.TwoPointFile(spectra, [nz_lens, nz_source], windows=None, covmat_info=covmat_info)\n",
    "twopointfile.to_fits(path + filename + '_from_sacc.fits', overwrite=True)"
   ]
  }
 ],
 "metadata": {
  "kernelspec": {
   "display_name": "Python 3",
   "language": "python",
   "name": "python3"
  },
  "language_info": {
   "codemirror_mode": {
    "name": "ipython",
    "version": 3
   },
   "file_extension": ".py",
   "mimetype": "text/x-python",
   "name": "python",
   "nbconvert_exporter": "python",
   "pygments_lexer": "ipython3",
   "version": "3.7.4"
  }
 },
 "nbformat": 4,
 "nbformat_minor": 2
}
