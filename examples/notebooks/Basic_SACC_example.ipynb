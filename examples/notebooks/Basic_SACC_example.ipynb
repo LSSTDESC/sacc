{
 "cells": [
  {
   "cell_type": "markdown",
   "metadata": {},
   "source": [
    "# Basic SACC example\n",
    "This notebook contains the same code that appears one directory above in `create_sacc.py`, `load_sacc.py`, and `split_sacc.py`, that are referenced in the README at the top of the repository. If there is a difference between the two, those scripts are more up-to-date than this notebook."
   ]
  },
  {
   "cell_type": "markdown",
   "metadata": {},
   "source": [
    "## Creating the SACC\n",
    "The first thing to do is to create the SACC object. Before we can even do that, we need to create some fake data that will go in the SACC."
   ]
  },
  {
   "cell_type": "code",
   "execution_count": 1,
   "metadata": {},
   "outputs": [
    {
     "name": "stderr",
     "output_type": "stream",
     "text": [
      "/home/anze/anaconda3/lib/python3.6/site-packages/h5py/__init__.py:36: FutureWarning: Conversion of the second argument of issubdtype from `float` to `np.floating` is deprecated. In future, it will be treated as `np.float64 == np.dtype(float).type`.\n",
      "  from ._conv import register_converters as _register_converters\n"
     ]
    }
   ],
   "source": [
    "import sacc\n",
    "import numpy as np\n",
    "import matplotlib.pyplot as plt\n",
    "%matplotlib inline"
   ]
  },
  {
   "cell_type": "markdown",
   "metadata": {},
   "source": [
    "### Fake data\n",
    "In this example, the fake data are some DES galaxies, some LSST galaxies, and a CMB kappa map. For all bins of each of these, we will create a `Tracer` object."
   ]
  },
  {
   "cell_type": "code",
   "execution_count": 2,
   "metadata": {},
   "outputs": [],
   "source": [
    "tracers = [] #The list to hold all tracers"
   ]
  },
  {
   "cell_type": "code",
   "execution_count": 3,
   "metadata": {},
   "outputs": [
    {
     "data": {
      "text/plain": [
       "Text(0,0.5,'N(z)')"
      ]
     },
     "execution_count": 3,
     "metadata": {},
     "output_type": "execute_result"
    },
    {
     "data": {
      "image/png": "[encoded data removed]",
      "text/plain": [
       "<Figure size 432x288 with 1 Axes>"
      ]
     },
     "metadata": {},
     "output_type": "display_data"
    }
   ],
   "source": [
    "# First, generate 4 tomographic bins for the DES data.\n",
    "for i,z in enumerate([0.3, 0.5, 0.7, 0.9]):\n",
    "    zar=np.arange(z-0.1,z+0.1,0.001)\n",
    "    Nz=np.exp(-(z-zar)**2/(2*0.03**2))\n",
    "    bias=np.ones(len(zar))*(i+0.5)\n",
    "    T=sacc.Tracer(\"des_gals_%i\"%i,\"spin0\",zar,Nz,exp_sample=\"des_gals\",\n",
    "                               Nz_sigma_logmean=0.01, Nz_sigma_logwidth=0.1)\n",
    "    T.addColumns({'b':bias})\n",
    "    tracers.append(T)\n",
    "\n",
    "    #Plotting, just to see what is going on\n",
    "    plt.plot(zar, Nz)\n",
    "plt.xlabel(\"redshift\")\n",
    "plt.ylabel(\"N(z)\")"
   ]
  },
  {
   "cell_type": "code",
   "execution_count": 4,
   "metadata": {},
   "outputs": [],
   "source": [
    "# Next LSST galaxies with 4 different tomographic bins.\n",
    "# Here the PZ modelling got more advanced so we have some PZ shapes to marginalise over\n",
    "for i,z in enumerate([0.5,0.7,0.9,1.1]):\n",
    "    zar=np.arange(z-0.1,z+0.1,0.001)\n",
    "    Nz=np.exp(-(z-zar)**2/(2*0.025**2))\n",
    "    DNz=np.zeros((len(Nz),2))\n",
    "    ## some random shapes of Nz to marginalise over\n",
    "    DNz[:,0]=(z-zar)**2*0.01\n",
    "    DNz[:,0]-=DNz[:,0].mean()\n",
    "    DNz[:,1]=(z-zar)**3*0.01\n",
    "    DNz[:,1]-=DNz[:,1].mean()\n",
    "    bias=np.ones(len(zar))*(i+0.7)\n",
    "    T=sacc.Tracer(\"lsst_gals_%i\"%i,\"spin0\",zar,Nz,exp_sample=\"lsst_gals\",\n",
    "                               DNz=DNz)\n",
    "    T.addColumns({'b':bias})\n",
    "    tracers.append(T)"
   ]
  },
  {
   "cell_type": "code",
   "execution_count": 5,
   "metadata": {},
   "outputs": [],
   "source": [
    "# Now let's also add the CMB kappa map, which will not actually have any data in it\n",
    "# The two \"None\" arguments are z and Nz\n",
    "tracers.append (sacc.Tracer(\"Planck\",\"spin0\", None, None))"
   ]
  },
  {
   "cell_type": "markdown",
   "metadata": {},
   "source": [
    "### Data vectors and binning\n",
    "The SACC holds data vectors and binning information. In this example, let's have cross-correlation of everything with everything else at 100 ell bins for density correlations."
   ]
  },
  {
   "cell_type": "code",
   "execution_count": 6,
   "metadata": {},
   "outputs": [],
   "source": [
    "lvals=np.arange(100,1000,100)\n",
    "Ntracer=len(tracers)\n",
    "#These lists will hold the information to create the \"binning\" object, which\n",
    "#contains all information for the projected bins on the sky we are\n",
    "#working with, or their Fourier-space equivalents (ells)\n",
    "type,ell,t1,q1,t2,q2,val,err,wins=[],[],[],[],[],[],[],[],[]\n",
    "#Loop over all tracers\n",
    "for t1i in range(Ntracer):\n",
    "    #Now loop over all *other* tracers\n",
    "    for t2i in range(t1i,Ntracer):\n",
    "        #For each ell bin\n",
    "        for l in lvals:\n",
    "            ## we have Fourier space measurement\n",
    "            type.append('FF')\n",
    "            ## at this nominal ell\n",
    "            ell.append(l)\n",
    "            ## but in detail  the measurement\n",
    "            ## is a Gaussian window around central ell +/- 50\n",
    "            wins.append(sacc.Window(np.arange(l-50,l+50),np.exp(-(1.0*np.arange(-50,50))**2/(2*20.**2))))\n",
    "            ## We refer to tracers by their index\n",
    "            t1.append(t1i)\n",
    "            t2.append(t2i)\n",
    "            ## Here we have density cross-correlations so \"P\" as point\n",
    "            ## except for CMB where \n",
    "            q1.append('S')\n",
    "            q2.append('S')\n",
    "            ## values and errors for the fake data\n",
    "            val.append(np.random.uniform(0,10))\n",
    "            err.append(np.random.uniform(1,2))\n",
    "\n",
    "#Create the binning object\n",
    "binning=sacc.Binning(type,ell,t1,q1,t2,q2,windows=wins)\n",
    "#Also retrieve the vector of mean values of the fake data\n",
    "mean=sacc.MeanVec(val)"
   ]
  },
  {
   "cell_type": "markdown",
   "metadata": {},
   "source": [
    "### Covariance matrices\n",
    "Finally, the SACC object holds a covariance matrix between all of the data we use. We will use ell_block_diagonal where everything is coupled across tracers/redshifts at the same ell but not across ell with fixed 10% off-diagonal elements."
   ]
  },
  {
   "cell_type": "code",
   "execution_count": 7,
   "metadata": {},
   "outputs": [],
   "source": [
    "#Obtain the size of the binning, or the number of radial bins we have.\n",
    "Np=binning.size()\n",
    "#Create the object that will hold the covariance.\n",
    "cov=np.zeros ((Np,Np))\n",
    "#Loop over all bins\n",
    "for i in range(Np):\n",
    "    #Loop over all i:Np bins\n",
    "    for j in range (i,Np):\n",
    "        #If the bins are the same, then there is covariance between the tracers.\n",
    "        #In the off-diagonals, reduce the covairance by a factor of 10.\n",
    "        if ell[i]==ell[j]:\n",
    "            cov[i,j]=err[i]*err[j]\n",
    "            if (i!=j):\n",
    "                cov[i,j]/=10\n",
    "            cov[j,i]=cov[i,j]\n",
    "#SACC objects actually save the precision matrix, which we can conveniently obtain\n",
    "#from the covairance using this function, which also associates a name and a binning\n",
    "#to the matrix.\n",
    "precision=sacc.Precision(cov,\"ell_block_diagonal\",is_covariance=True, binning=binning)"
   ]
  },
  {
   "cell_type": "code",
   "execution_count": 8,
   "metadata": {},
   "outputs": [
    {
     "name": "stdout",
     "output_type": "stream",
     "text": [
      "--------------------------------\n",
      "Meta information:\n",
      "   Creator : McGyver\n",
      "   Project : Victory\n",
      "--------------------------------\n",
      " EXP_SAMPLE: None\n",
      "       Tomographic sample #0: <z>=-1.00\n",
      " EXP_SAMPLE: des_gals\n",
      "       Tomographic sample #0: <z>=0.30\n",
      "       Tomographic sample #1: <z>=0.50\n",
      "       Tomographic sample #2: <z>=0.70\n",
      "       Tomographic sample #3: <z>=0.90\n",
      " EXP_SAMPLE: lsst_gals\n",
      "       Tomographic sample #0: <z>=0.50\n",
      "       Tomographic sample #1: <z>=0.70\n",
      "       Tomographic sample #2: <z>=0.90\n",
      "       Tomographic sample #3: <z>=1.10\n",
      "--------------------------------\n",
      "Total number of points: 405\n",
      "Precision matrix type: ell_block_diagonal\n"
     ]
    }
   ],
   "source": [
    "## Add some meta data\n",
    "meta={\"Creator\":\"McGyver\",\"Project\":\"Victory\"}\n",
    "# Saving the SACC is easy, and it combines all the parts we just computed\n",
    "s=sacc.SACC(tracers,binning,mean,precision,meta)\n",
    "s.printInfo()\n",
    "s.saveToHDF (\"test.sacc\")"
   ]
  },
  {
   "cell_type": "markdown",
   "metadata": {},
   "source": [
    "## Loading the SACC\n",
    "SACCs can be created in one place and loaded into another. These next two cells show how you can load up the SACC, and then print some handy information from inside."
   ]
  },
  {
   "cell_type": "code",
   "execution_count": 9,
   "metadata": {},
   "outputs": [
    {
     "name": "stdout",
     "output_type": "stream",
     "text": [
      "--------------------------------\n",
      "Meta information:\n",
      "   Creator : b'McGyver'\n",
      "   Project : b'Victory'\n",
      "--------------------------------\n",
      " EXP_SAMPLE: b'None'\n",
      "       Tomographic sample #0: <z>=-1.00\n",
      " EXP_SAMPLE: b'lsst_gals'\n",
      "       Tomographic sample #0: <z>=0.50\n",
      "       Tomographic sample #1: <z>=0.70\n",
      "       Tomographic sample #2: <z>=0.90\n",
      "       Tomographic sample #3: <z>=1.10\n",
      " EXP_SAMPLE: b'des_gals'\n",
      "       Tomographic sample #0: <z>=0.30\n",
      "       Tomographic sample #1: <z>=0.50\n",
      "       Tomographic sample #2: <z>=0.70\n",
      "       Tomographic sample #3: <z>=0.90\n",
      "--------------------------------\n",
      "Total number of points: 405\n",
      "Precision matrix type: ell_block_diagonal\n"
     ]
    }
   ],
   "source": [
    "s=sacc.SACC.loadFromHDF(\"test.sacc\")\n",
    "s.printInfo()"
   ]
  },
  {
   "cell_type": "code",
   "execution_count": 10,
   "metadata": {},
   "outputs": [
    {
     "name": "stdout",
     "output_type": "stream",
     "text": [
      "Precision matrix, first 10 colums:\n",
      "0.73145 0.00000 0.00000 0.00000 0.00000 0.00000 0.00000 0.00000 0.00000 -0.00889 \n",
      "0.00000 0.38780 0.00000 0.00000 0.00000 0.00000 0.00000 0.00000 0.00000 0.00000 \n",
      "0.00000 0.00000 0.78504 0.00000 0.00000 0.00000 0.00000 0.00000 0.00000 0.00000 \n",
      "0.00000 0.00000 0.00000 0.40189 0.00000 0.00000 0.00000 0.00000 0.00000 0.00000 \n",
      "0.00000 0.00000 0.00000 0.00000 0.57786 0.00000 0.00000 0.00000 0.00000 0.00000 \n",
      "0.00000 0.00000 0.00000 0.00000 0.00000 0.82915 0.00000 0.00000 0.00000 0.00000 \n",
      "0.00000 0.00000 0.00000 0.00000 0.00000 0.00000 0.65858 0.00000 0.00000 0.00000 \n",
      "0.00000 0.00000 0.00000 0.00000 0.00000 0.00000 0.00000 0.80344 0.00000 0.00000 \n",
      "0.00000 0.00000 0.00000 0.00000 0.00000 0.00000 0.00000 0.00000 0.31967 0.00000 \n",
      "-0.00889 0.00000 0.00000 0.00000 0.00000 0.00000 0.00000 0.00000 0.00000 0.30372 \n"
     ]
    }
   ],
   "source": [
    "print (\"Precision matrix, first 10 colums:\")\n",
    "## This will invert matrix from covariance on the fly\n",
    "m=s.precision.precisionMatrix()\n",
    "Ncol = 10\n",
    "for i in range(Ncol):\n",
    "    for j in range(Ncol):\n",
    "        print ('%5.5f '%m[i,j],end=\"\")\n",
    "    print()"
   ]
  },
  {
   "cell_type": "markdown",
   "metadata": {},
   "source": [
    "## Splitting the SACC\n",
    "The SACC can also be saved into individual parts, meaning we can save the mean vector, precision matrix, etc. to separate files. "
   ]
  },
  {
   "cell_type": "code",
   "execution_count": 11,
   "metadata": {},
   "outputs": [],
   "source": [
    "#Load the SACC created earlier.\n",
    "s=sacc.SACC.loadFromHDF(\"test.sacc\")\n",
    "#Save the mean vector and precision matrix separately.\n",
    "s.mean.saveToHDFFile(\"split.mean.sacc\")\n",
    "s.precision.saveToHDFFile(\"split.precision.sacc\")\n",
    "s.saveToHDF(\"split.main.sacc\",save_mean=False, mean_filename=\"split.mean.sacc\",\n",
    "                              save_precision=False, precision_filename=\"split.precision.sacc\")"
   ]
  },
  {
   "cell_type": "code",
   "execution_count": 12,
   "metadata": {},
   "outputs": [
    {
     "name": "stdout",
     "output_type": "stream",
     "text": [
      "--------------------------------\n",
      "Meta information:\n",
      "   Creator : b'McGyver'\n",
      "   Project : b'Victory'\n",
      "--------------------------------\n",
      " EXP_SAMPLE: b\"b'des_gals'\"\n",
      "       Tomographic sample #0: <z>=0.30\n",
      "       Tomographic sample #1: <z>=0.50\n",
      "       Tomographic sample #2: <z>=0.70\n",
      "       Tomographic sample #3: <z>=0.90\n",
      " EXP_SAMPLE: b\"b'None'\"\n",
      "       Tomographic sample #0: <z>=-1.00\n",
      " EXP_SAMPLE: b\"b'lsst_gals'\"\n",
      "       Tomographic sample #0: <z>=0.50\n",
      "       Tomographic sample #1: <z>=0.70\n",
      "       Tomographic sample #2: <z>=0.90\n",
      "       Tomographic sample #3: <z>=1.10\n",
      "--------------------------------\n",
      "Total number of points: 405\n",
      "Precision matrix type: ell_block_diagonal\n"
     ]
    }
   ],
   "source": [
    "#We can now reload, and the SACC will be reconsituted from three files.\n",
    "sn=sacc.SACC.loadFromHDF(\"split.main.sacc\")\n",
    "sn.printInfo()"
   ]
  },
  {
   "cell_type": "code",
   "execution_count": null,
   "metadata": {},
   "outputs": [],
   "source": []
  }
 ],
 "metadata": {
  "kernelspec": {
   "display_name": "Python 3",
   "language": "python",
   "name": "python3"
  },
  "language_info": {
   "codemirror_mode": {
    "name": "ipython",
    "version": 3
   },
   "file_extension": ".py",
   "mimetype": "text/x-python",
   "name": "python",
   "nbconvert_exporter": "python",
   "pygments_lexer": "ipython3",
   "version": "3.6.5"
  }
 },
 "nbformat": 4,
 "nbformat_minor": 2
}
