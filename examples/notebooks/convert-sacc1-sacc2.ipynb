{
 "cells": [
  {
   "cell_type": "markdown",
   "metadata": {},
   "source": [
    "This example converts a Sacc1 format file into Sacc2 format,\n",
    "adding data points one by one"
   ]
  },
  {
   "cell_type": "code",
   "execution_count": 1,
   "metadata": {},
   "outputs": [
    {
     "name": "stdout",
     "output_type": "stream",
     "text": [
      "Populating the interactive namespace from numpy and matplotlib\n"
     ]
    }
   ],
   "source": [
    "pylab inline"
   ]
  },
  {
   "cell_type": "code",
   "execution_count": 2,
   "metadata": {},
   "outputs": [],
   "source": [
    "import sacc\n",
    "import sacc2"
   ]
  },
  {
   "cell_type": "code",
   "execution_count": 3,
   "metadata": {},
   "outputs": [
    {
     "name": "stderr",
     "output_type": "stream",
     "text": [
      "/usr/local/lib/python3.7/site-packages/h5py/_hl/dataset.py:313: H5pyDeprecationWarning: dataset.value has been deprecated. Use dataset[()] instead.\n",
      "  \"Use dataset[()] instead.\", H5pyDeprecationWarning)\n"
     ]
    }
   ],
   "source": [
    "S = sacc.SACC.loadFromHDF('./example-txpipe-sacc1.sacc')"
   ]
  },
  {
   "cell_type": "code",
   "execution_count": 4,
   "metadata": {},
   "outputs": [],
   "source": [
    "# We will make this new sacc2 format data set\n",
    "S2 = sacc2.Sacc()\n",
    "\n",
    "# Converting tracers\n",
    "for T in S.tracers:\n",
    "    # The sacc1 format files have the confusing bytes/str HDF5 issue.\n",
    "    # In this case the names have form \"b'name'\" where name is the actual\n",
    "    # name we want.  This is due to confusion somewhere between TXPipe and\n",
    "    # Sacc1\n",
    "    name = T.name[2:-1]\n",
    "    z = T.z\n",
    "    Nz = T.Nz\n",
    "    S2.add_tracer('NZ', name, z, Nz)\n",
    "\n",
    "# Translation of type names into spectrum names\n",
    "types = {\n",
    "    ('E','E'): sacc2.known_types.galaxy_shear_ee,\n",
    "    ('B','B'): sacc2.known_types.galaxy_shear_bb,\n",
    "    ('E','B'): sacc2.known_types.galaxy_shear_eb,\n",
    "    ('P','P'): sacc2.known_types.galaxy_density_cl,\n",
    "    ('P','E'): sacc2.known_types.ggl_E,\n",
    "    ('P','B'): sacc2.known_types.ggl_B,\n",
    "}\n",
    "\n",
    "# The source names to pick out\n",
    "sources = {\n",
    "    'E' : 'LSST source_{}',\n",
    "    'B' : 'LSST source_{}',\n",
    "    'P' : 'LSST lens_{}',\n",
    "}\n",
    "\n",
    "# Loop through all the data points\n",
    "n = len(S.binning.binar)\n",
    "for i in range(n):\n",
    "    # Pull out this row and value\n",
    "    value = S.mean.vector[i]\n",
    "    row = S.binning.binar[i]\n",
    "    \n",
    "    # Again deal with bytes/str issue\n",
    "    Q1 = row['Q1'].tostring().decode('ascii')\n",
    "    Q2 = row['Q2'].tostring().decode('ascii')\n",
    "    data_type = types[(Q1, Q2)]\n",
    "    \n",
    "    # bin name\n",
    "    bin1 = row['T1']\n",
    "    bin2 = row['T2']\n",
    "    \n",
    "    # Sources are the other way around in this file, again\n",
    "    # due to an error somewhere  in TXPipe.  So we construct\n",
    "    # the names by flipping 1,2\n",
    "    tracer1 = sources[Q2].format(bin1)\n",
    "    tracer2 = sources[Q1].format(bin2)\n",
    "    tracers = (tracer1, tracer2)\n",
    "\n",
    "    ell = row['ls']\n",
    "    \n",
    "    # This is a helper method specifically for C_ell data.\n",
    "    # It is a call to a more basic underlying method.\n",
    "    S2.add_ell_cl(data_type, tracer1, tracer2, ell, value)\n",
    "\n"
   ]
  },
  {
   "cell_type": "code",
   "execution_count": 5,
   "metadata": {},
   "outputs": [],
   "source": [
    "# Write this to file\n",
    "S2.save_fits('converted.sacc', overwrite=True)\n"
   ]
  },
  {
   "cell_type": "code",
   "execution_count": 6,
   "metadata": {},
   "outputs": [],
   "source": [
    "# Check it can be loaded back again\n",
    "S3 = sacc2.Sacc.load_fits(\"converted.sacc\")\n"
   ]
  },
  {
   "cell_type": "code",
   "execution_count": 7,
   "metadata": {},
   "outputs": [
    {
     "data": {
      "text/plain": [
       "[<matplotlib.lines.Line2D at 0x11418b710>]"
      ]
     },
     "execution_count": 7,
     "metadata": {},
     "output_type": "execute_result"
    },
    {
     "data": {
      "image/png": "[encoded data removed]",
      "text/plain": [
       "<Figure size 432x288 with 1 Axes>"
      ]
     },
     "metadata": {
      "needs_background": "light"
     },
     "output_type": "display_data"
    }
   ],
   "source": [
    "# Plot a single bin pair.\n",
    "# Again, this is a helper method\n",
    "ell, cl = S3.get_ell_cl(sacc2.known_types.galaxy_shear_ee, 'LSST source_1', 'LSST source_0')\n",
    "plot(ell, cl)"
   ]
  },
  {
   "cell_type": "code",
   "execution_count": null,
   "metadata": {},
   "outputs": [],
   "source": []
  }
 ],
 "metadata": {
  "kernelspec": {
   "display_name": "Python 3",
   "language": "python",
   "name": "python3"
  },
  "language_info": {
   "codemirror_mode": {
    "name": "ipython",
    "version": 3
   },
   "file_extension": ".py",
   "mimetype": "text/x-python",
   "name": "python",
   "nbconvert_exporter": "python",
   "pygments_lexer": "ipython3",
   "version": "3.7.2"
  }
 },
 "nbformat": 4,
 "nbformat_minor": 2
}
