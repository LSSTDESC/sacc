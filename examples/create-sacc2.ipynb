{
 "cells": [
  {
   "cell_type": "markdown",
   "metadata": {},
   "source": [
    "# sacc Examples\n"
   ]
  },
  {
   "cell_type": "code",
   "execution_count": 1,
   "metadata": {},
   "outputs": [
    {
     "name": "stdout",
     "output_type": "stream",
     "text": [
      "Populating the interactive namespace from numpy and matplotlib\n"
     ]
    }
   ],
   "source": [
    "pylab inline"
   ]
  },
  {
   "cell_type": "code",
   "execution_count": 2,
   "metadata": {},
   "outputs": [],
   "source": [
    "import pyccl as ccl\n",
    "import sacc\n",
    "import sys\n",
    "import datetime\n",
    "from astropy.io import fits\n",
    "import time"
   ]
  },
  {
   "cell_type": "code",
   "execution_count": 3,
   "metadata": {},
   "outputs": [],
   "source": [
    "nbin = 4"
   ]
  },
  {
   "cell_type": "markdown",
   "metadata": {},
   "source": [
    "# Getting input data\n",
    "\n",
    "We will make some fake window ranges and data vectors from theory predictions using CCL.  We will also need fake N(z) distributions in that case."
   ]
  },
  {
   "cell_type": "code",
   "execution_count": 4,
   "metadata": {},
   "outputs": [],
   "source": [
    "galaxy_density_cl = sacc.standard_types.galaxy_density_cl\n",
    "\n",
    "ell_edges = np.linspace(5, 10000, 20).astype(int)\n",
    "window_ranges = list(zip(ell_edges[:-1], ell_edges[1:]))\n",
    "effective_ell = np.array([mean(x) for x in window_ranges])\n",
    "ell_max = window_ranges[-1][-1]+1\n"
   ]
  },
  {
   "cell_type": "code",
   "execution_count": 5,
   "metadata": {},
   "outputs": [
    {
     "name": "stdout",
     "output_type": "stream",
     "text": [
      "CPU times: user 3.96 s, sys: 26.4 ms, total: 3.99 s\n",
      "Wall time: 1.38 s\n"
     ]
    },
    {
     "data": {
      "image/png": "[encoded data removed]",
      "text/plain": [
       "<Figure size 432x288 with 1 Axes>"
      ]
     },
     "metadata": {
      "needs_background": "light"
     },
     "output_type": "display_data"
    }
   ],
   "source": [
    "%%time\n",
    "cosmo = ccl.Cosmology(Omega_c=0.25, Omega_b=0.05, h=0.72, n_s=0.96, A_s=2.1e-9)\n",
    "N_z = []\n",
    "spectra = []\n",
    "errors = []\n",
    "z = np.arange(0., 3.0, 0.01)\n",
    "for i in range(nbin):\n",
    "    mean_z = 0.3*(1+i)\n",
    "    sigma_z = 0.05\n",
    "    n_z = np.exp(-0.5*(z - mean_z)**2 / sigma_z**2)\n",
    "    N_z.append(n_z)\n",
    "    \n",
    "    bias = np.ones_like(z) * 1.5*(mean_z/0.3)**0.5\n",
    "    T = ccl.NumberCountsTracer(cosmo, False, (z,N_z[i]), (z, bias))\n",
    "    ell = np.arange(ell_max+1)\n",
    "    cl = ccl.angular_cl(cosmo, T, T, ell)\n",
    "    cb = []\n",
    "    for m,M in window_ranges:\n",
    "        cb.append(np.mean(cl[m:M]))\n",
    "    spectra.append(cb)\n",
    "    errors.append(np.ones_like(cb)*1e-6)\n",
    "    line, = loglog(ell, cl)\n",
    "    errorbar(effective_ell, cb, yerr=errors[-1], fmt='.', color=line.get_color())\n",
    "    xlim(10,ell_max)\n",
    "    xlabel(\"ell\")\n",
    "    ylabel(\"C_ell\")\n",
    "\n",
    "    "
   ]
  },
  {
   "cell_type": "markdown",
   "metadata": {},
   "source": [
    "# Constructing the data set object\n",
    "\n",
    "We now construct the Sacc data set object, using all the different ingredients."
   ]
  },
  {
   "cell_type": "code",
   "execution_count": 6,
   "metadata": {},
   "outputs": [
    {
     "name": "stdout",
     "output_type": "stream",
     "text": [
      "These times can vary a lot:\n",
      "    Time to make window objects: 0.77ms\n",
      "    Time to make tracers and data points: 1.91ms\n",
      "    Time to add covariance: 0.17ms\n",
      "    Time to sort data: 0.02ms\n",
      "    Total construction time: 2.87ms\n"
     ]
    }
   ],
   "source": [
    "timer = time.perf_counter\n",
    "\n",
    "S = sacc.Sacc()\n",
    "\n",
    "S.metadata['nbin_lens'] = 4\n",
    "S.metadata['nbin_source'] = 0 \n",
    "S.metadata['creator'] = 'Beloved User'\n",
    "S.metadata['creation'] = datetime.datetime.now().isoformat()\n",
    "S.metadata['info'] = 'Theory predictions using CCL'\n",
    "\n",
    "\n",
    "t0 = timer()\n",
    "# In this case we use the same top-hat window for each bin.\n",
    "# In reality we would probably use a different window for each\n",
    "# pair of bins, empirically determined.\n",
    "windows = [sacc.TopHatWindow(m,M) for m,M in window_ranges]\n",
    "\n",
    "# Imaginary new statistic's window that I just made up\n",
    "windows_1pt = []\n",
    "for i in range(5):\n",
    "    v = np.arange(i*10., (i+1)*10.)\n",
    "    w = np.random.uniform(size=10)**2\n",
    "    windows_1pt.append(sacc.Window(v,w))\n",
    "\n",
    "t1 = timer()\n",
    "variances = []\n",
    "\n",
    "for i in range(nbin):\n",
    "    # Add the appropriate tracer\n",
    "    S.add_tracer('NZ', f'bin_{i}', z, N_z[i])\n",
    "    # Get the binned spectrum values\n",
    "    cb = spectra[i]\n",
    "    # In this case we are just doing LSS, so\n",
    "    # there is just a single bin, repeated.\n",
    "    bin_name = f'bin_{i}'\n",
    "    # Add the values\n",
    "    S.add_ell_cl(galaxy_density_cl, bin_name, bin_name, effective_ell, cb, window=windows)\n",
    "    variances.append(errors[i]**2)\n",
    "    # Imaginary statistic to test having a second kind of data here\n",
    "    for i in range(10):\n",
    "        S.add_data_point('galaxy_density_1pt', (bin_name,), 1.0*np.sqrt(i),\n",
    "                         window=windows_1pt[i%5], is_good=np.random.choice([0,1]))\n",
    "        variances.append([1.0])\n",
    "\n",
    "t2 = timer()\n",
    "S.add_covariance(np.concatenate(variances))\n",
    "t3 = timer()\n",
    "\n",
    "# The canonical ordering organizes data points by type\n",
    "#S.to_canonical_order()\n",
    "t4 = timer()\n",
    "\n",
    "\n",
    "print(\"These times can vary a lot:\")\n",
    "print(f\"    Time to make window objects: {(t1-t0)*1000:.2f}ms\")\n",
    "print(f\"    Time to make tracers and data points: {(t2-t1)*1000:.2f}ms\")\n",
    "print(f\"    Time to add covariance: {(t3-t2)*1000:.2f}ms\")\n",
    "print(f\"    Time to sort data: {(t4-t3)*1000:.2f}ms\")\n",
    "print(f\"    Total construction time: {(t4-t0)*1000:.2f}ms\")\n",
    "\n",
    "\n",
    "S.data[4].tags['magic_number'] = 42\n",
    "S.data[10].tags['magic_number'] = 42\n"
   ]
  },
  {
   "cell_type": "code",
   "execution_count": 7,
   "metadata": {},
   "outputs": [
    {
     "name": "stdout",
     "output_type": "stream",
     "text": [
      "Removing 8 data points\n"
     ]
    },
    {
     "name": "stderr",
     "output_type": "stream",
     "text": [
      "/Users/jaz/src/Sacc/sacc/sacc.py:341: UserWarning: Empty index selected\n",
      "  warnings.warn(\"Empty index selected\")\n"
     ]
    }
   ],
   "source": [
    "# An example cut\n",
    "cut = S.indices(\"galaxy_density_cl\", ell__gt=9000)\n",
    "print(f\"Removing {len(cut)} data points\")\n",
    "S.remove_indices(cut)\n",
    "\n",
    "# Could also write this to do the cut directly\n",
    "S.remove_selection('galaxy_density_cl', ell_gt=8000)\n"
   ]
  },
  {
   "cell_type": "markdown",
   "metadata": {},
   "source": [
    "# I/O\n",
    "\n",
    "Let's save to a FITS file now and reload."
   ]
  },
  {
   "cell_type": "code",
   "execution_count": 8,
   "metadata": {},
   "outputs": [
    {
     "name": "stderr",
     "output_type": "stream",
     "text": [
      "WARNING: VerifyWarning: Keyword name 'nbin_lens' is greater than 8 characters or contains characters not allowed by the FITS standard; a HIERARCH card will be created. [astropy.io.fits.card]\n",
      "WARNING: VerifyWarning: Keyword name 'nbin_source' is greater than 8 characters or contains characters not allowed by the FITS standard; a HIERARCH card will be created. [astropy.io.fits.card]\n"
     ]
    }
   ],
   "source": [
    "S.save_fits('tmp.fits', overwrite=True)"
   ]
  },
  {
   "cell_type": "code",
   "execution_count": 9,
   "metadata": {},
   "outputs": [],
   "source": [
    "S2 = sacc.Sacc.load_fits('tmp.fits')"
   ]
  },
  {
   "cell_type": "markdown",
   "metadata": {},
   "source": [
    "# Plotting\n",
    "\n",
    "Let's plot the original data file and the re-loaded one, to check they agree."
   ]
  },
  {
   "cell_type": "code",
   "execution_count": 10,
   "metadata": {},
   "outputs": [
    {
     "data": {
      "text/plain": [
       "<matplotlib.legend.Legend at 0x11d50abe0>"
      ]
     },
     "execution_count": 10,
     "metadata": {},
     "output_type": "execute_result"
    },
    {
     "data": {
      "image/png": "[encoded data removed]",
      "text/plain": [
       "<Figure size 432x288 with 1 Axes>"
      ]
     },
     "metadata": {
      "needs_background": "light"
     },
     "output_type": "display_data"
    },
    {
     "data": {
      "image/png": "[encoded data removed]",
      "text/plain": [
       "<Figure size 432x288 with 1 Axes>"
      ]
     },
     "metadata": {
      "needs_background": "light"
     },
     "output_type": "display_data"
    }
   ],
   "source": [
    "# #plot our other kind of weird pretend statistic\n",
    "for b1, b2 in S.get_tracer_combinations('galaxy_density_cl'):\n",
    "    ell, cl, covmat = S.get_ell_cl('galaxy_density_cl', b1, b2, return_cov=True)\n",
    "    errorbar(ell, cl, yerr=covmat.diagonal()**0.5, fmt='.', label=f'{b1}-{b2}')\n",
    "    xscale('log')\n",
    "    yscale('log')\n",
    "title(\"Galaxy C_ell\")\n",
    "legend()\n",
    "\n",
    "figure()\n",
    "#plot our other kind of weird pretend statistic\n",
    "for tracers in S.get_tracer_combinations('galaxy_density_1pt'):\n",
    "    mu = S2.get_mean('galaxy_density_1pt', tracers)\n",
    "    plot(mu, label=str(tracers[0]))\n",
    "title(\"galaxy_density_1pt [but actually just y=x**0.5]\")\n",
    "legend()"
   ]
  },
  {
   "cell_type": "code",
   "execution_count": 11,
   "metadata": {},
   "outputs": [
    {
     "data": {
      "text/plain": [
       "<matplotlib.legend.Legend at 0x11d620be0>"
      ]
     },
     "execution_count": 11,
     "metadata": {},
     "output_type": "execute_result"
    },
    {
     "data": {
      "image/png": "[encoded data removed]",
      "text/plain": [
       "<Figure size 432x288 with 1 Axes>"
      ]
     },
     "metadata": {
      "needs_background": "light"
     },
     "output_type": "display_data"
    },
    {
     "data": {
      "image/png": "[encoded data removed]",
      "text/plain": [
       "<Figure size 432x288 with 1 Axes>"
      ]
     },
     "metadata": {
      "needs_background": "light"
     },
     "output_type": "display_data"
    }
   ],
   "source": [
    "# #plot our other kind of weird pretend statistic\n",
    "for b1, b2 in S2.get_tracer_combinations('galaxy_density_cl'):\n",
    "    ell, cl, covmat = S2.get_ell_cl('galaxy_density_cl', b1, b2, return_cov=True)\n",
    "    errorbar(ell, cl, yerr=covmat.diagonal()**0.5, fmt='.', label=f'{b1}-{b2}')\n",
    "    xscale('log')\n",
    "    yscale('log')\n",
    "title(\"Galaxy C_ell\")\n",
    "legend()\n",
    "\n",
    "figure()\n",
    "#plot our other kind of weird pretend statistic\n",
    "for tracers in S2.get_tracer_combinations('galaxy_density_1pt'):\n",
    "    mu = S2.get_mean('galaxy_density_1pt', tracers)\n",
    "    plot(mu, label=str(tracers[0]))\n",
    "title(\"galaxy_density_1pt [but actually just y=x**0.5]\")\n",
    "legend()"
   ]
  },
  {
   "cell_type": "markdown",
   "metadata": {},
   "source": [
    "# Supernova Example\n",
    "\n",
    "Let's do a very different kind of example - a supernova file containing\n",
    "1 million supernovae.  This isn't really what the format was designed for,\n",
    "but would provide a somewhat plausible extreme case."
   ]
  },
  {
   "cell_type": "code",
   "execution_count": 12,
   "metadata": {},
   "outputs": [
    {
     "name": "stdout",
     "output_type": "stream",
     "text": [
      "CPU times: user 5.13 s, sys: 164 ms, total: 5.29 s\n",
      "Wall time: 5.29 s\n"
     ]
    }
   ],
   "source": [
    "%%time\n",
    "S3 = sacc.Sacc()\n",
    "N = 1000000\n",
    "S3.add_tracer('misc', 'SN_pop1')\n",
    "for i in range(N):\n",
    "    S3.add_data_point(\"supernova_data\", ('SN_pop1',), np.random.uniform(14., 26.), z=np.random.uniform(0., 3.0))"
   ]
  },
  {
   "cell_type": "code",
   "execution_count": 13,
   "metadata": {},
   "outputs": [
    {
     "name": "stdout",
     "output_type": "stream",
     "text": [
      "CPU times: user 1.77 s, sys: 97.8 ms, total: 1.87 s\n",
      "Wall time: 1.87 s\n"
     ]
    }
   ],
   "source": [
    "%%time\n",
    "S3.to_canonical_order()"
   ]
  },
  {
   "cell_type": "code",
   "execution_count": 14,
   "metadata": {},
   "outputs": [
    {
     "name": "stdout",
     "output_type": "stream",
     "text": [
      "CPU times: user 1.16 s, sys: 57.6 ms, total: 1.22 s\n",
      "Wall time: 1.22 s\n"
     ]
    }
   ],
   "source": [
    "%%time\n",
    "z=S3.get_tag('z', 'supernova_data')"
   ]
  },
  {
   "cell_type": "code",
   "execution_count": 15,
   "metadata": {},
   "outputs": [
    {
     "data": {
      "image/png": "[encoded data removed]",
      "text/plain": [
       "<Figure size 432x288 with 1 Axes>"
      ]
     },
     "metadata": {
      "needs_background": "light"
     },
     "output_type": "display_data"
    }
   ],
   "source": [
    "_=hist(z, bins=40)\n"
   ]
  },
  {
   "cell_type": "code",
   "execution_count": 16,
   "metadata": {},
   "outputs": [
    {
     "name": "stdout",
     "output_type": "stream",
     "text": [
      "CPU times: user 30.7 s, sys: 812 ms, total: 31.6 s\n",
      "Wall time: 31.7 s\n"
     ]
    }
   ],
   "source": [
    "# This is too slow, and if data this size becomes a real use case for the format\n",
    "# then we shouldd re-write things, but we don't expect that.\n",
    "%time S3.save_fits(\"sn.fits\", overwrite=True)"
   ]
  },
  {
   "cell_type": "code",
   "execution_count": 17,
   "metadata": {},
   "outputs": [
    {
     "name": "stdout",
     "output_type": "stream",
     "text": [
      "CPU times: user 14.7 s, sys: 279 ms, total: 14.9 s\n",
      "Wall time: 14.9 s\n"
     ]
    }
   ],
   "source": [
    "%time S4 = sacc.Sacc.load_fits(\"sn.fits\")"
   ]
  }
 ],
 "metadata": {
  "kernelspec": {
   "display_name": "Python 3",
   "language": "python",
   "name": "python3"
  },
  "language_info": {
   "codemirror_mode": {
    "name": "ipython",
    "version": 3
   },
   "file_extension": ".py",
   "mimetype": "text/x-python",
   "name": "python",
   "nbconvert_exporter": "python",
   "pygments_lexer": "ipython3",
   "version": "3.7.2"
  }
 },
 "nbformat": 4,
 "nbformat_minor": 2
}
