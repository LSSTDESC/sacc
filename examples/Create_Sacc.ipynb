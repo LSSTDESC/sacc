{
 "cells": [
  {
   "cell_type": "markdown",
   "metadata": {},
   "source": [
    "# Creating a SACC file with the library\n"
   ]
  },
  {
   "cell_type": "markdown",
   "metadata": {},
   "source": [
    "In this example we will make a Sacc data file using simulated data from CCL, the Core Cosmology Library."
   ]
  },
  {
   "cell_type": "code",
   "execution_count": 1,
   "metadata": {},
   "outputs": [
    {
     "name": "stdout",
     "output_type": "stream",
     "text": [
      "Populating the interactive namespace from numpy and matplotlib\n"
     ]
    }
   ],
   "source": [
    "pylab inline"
   ]
  },
  {
   "cell_type": "code",
   "execution_count": 2,
   "metadata": {},
   "outputs": [],
   "source": [
    "import sacc\n",
    "import pyccl as ccl\n",
    "import datetime\n",
    "import time"
   ]
  },
  {
   "cell_type": "markdown",
   "metadata": {},
   "source": [
    "# Getting input data\n",
    "\n",
    "We will make some fake window ranges and data vectors from theory predictions using CCL.  We will also need fake N(z) distributions in that case.\n",
    "\n",
    "We will generate 4 bins of galaxy density w(theta) measurements."
   ]
  },
  {
   "cell_type": "code",
   "execution_count": 3,
   "metadata": {},
   "outputs": [],
   "source": [
    "galaxy_density_cl = sacc.standard_types.galaxy_density_cl\n",
    "nbin = 4"
   ]
  },
  {
   "cell_type": "markdown",
   "metadata": {},
   "source": [
    "We will generate 20 ell bins from ell=5 to ell=1000"
   ]
  },
  {
   "cell_type": "code",
   "execution_count": 4,
   "metadata": {},
   "outputs": [
    {
     "name": "stdout",
     "output_type": "stream",
     "text": [
      "Ell window ranges:\n",
      "[(5, 57), (57, 109), (109, 162), (162, 214), (214, 266), (266, 319), (319, 371), (371, 423), (423, 476), (476, 528), (528, 581), (581, 633), (633, 685), (685, 738), (738, 790), (790, 842), (842, 895), (895, 947), (947, 1000)]\n"
     ]
    }
   ],
   "source": [
    "ell_edges = np.linspace(5, 1000, 20).astype(int)\n",
    "\n",
    "# Generate the ranges (ell_min, ell_max)\n",
    "window_ranges = list(zip(ell_edges[:-1], ell_edges[1:]))\n",
    "effective_ell = np.array([mean(x) for x in window_ranges])\n",
    "ell_max = window_ranges[-1][-1]+1\n",
    "print(\"Ell window ranges:\")\n",
    "print(window_ranges)"
   ]
  },
  {
   "cell_type": "markdown",
   "metadata": {},
   "source": [
    "Construct the mock N(z) values and use CCL to calculate the C_ell values in band powers corresponding to it.\n",
    "We use a constant bias within each bin"
   ]
  },
  {
   "cell_type": "code",
   "execution_count": 5,
   "metadata": {},
   "outputs": [
    {
     "data": {
      "image/png": "[encoded data removed]",
      "text/plain": [
       "<Figure size 432x288 with 1 Axes>"
      ]
     },
     "metadata": {
      "needs_background": "light"
     },
     "output_type": "display_data"
    }
   ],
   "source": [
    "cosmo = ccl.Cosmology(Omega_c=0.25, Omega_b=0.05, h=0.72, n_s=0.96, A_s=2.1e-9)\n",
    "\n",
    "N_z = []\n",
    "spectra = []\n",
    "errors = []\n",
    "\n",
    "# Z sample values\n",
    "z = np.arange(0., 3.0, 0.01)\n",
    "\n",
    "for i in range(nbin):\n",
    "    # Construct n(z)\n",
    "    mean_z = 0.3*(1+i)\n",
    "    sigma_z = 0.05\n",
    "    n_z = np.exp(-0.5*(z - mean_z)**2 / sigma_z**2)\n",
    "    N_z.append(n_z)\n",
    "    \n",
    "    # Use a constant bias in each bin and make a tracer\n",
    "    bias = np.ones_like(z) * 1.5*(mean_z/0.3)**0.5\n",
    "    T = ccl.NumberCountsTracer(cosmo, False, (z,N_z[i]), (z, bias))\n",
    "\n",
    "    # Calculate C_ell over the full ell range (for each integer value)\n",
    "    ell = np.arange(ell_max+1)\n",
    "    cl = ccl.angular_cl(cosmo, T, T, ell)\n",
    "\n",
    "    # Apply window functions to get band powers\n",
    "    cb = []\n",
    "    for m,M in window_ranges:\n",
    "        cb.append(np.mean(cl[m:M]))\n",
    "    spectra.append(cb)\n",
    "\n",
    "    # Plot each tomographic bin\n",
    "    errors.append(np.ones_like(cb)*1e-6)\n",
    "    line, = loglog(ell, cl)\n",
    "    errorbar(effective_ell, cb, yerr=errors[-1], fmt='.', color=line.get_color())\n",
    "    xlim(10,ell_max)\n",
    "    xlabel(\"ell\")\n",
    "    ylabel(\"C_ell\")\n",
    "\n",
    "variances = np.concatenate(errors)**2"
   ]
  },
  {
   "cell_type": "markdown",
   "metadata": {},
   "source": [
    "# Constructing the data set object\n",
    "\n",
    "We now construct the Sacc data set object, using all the different ingredients.\n",
    "\n",
    "We initially start with a blank data set object, and gradually fill it in."
   ]
  },
  {
   "cell_type": "code",
   "execution_count": 6,
   "metadata": {},
   "outputs": [],
   "source": [
    "S = sacc.Sacc()"
   ]
  },
  {
   "cell_type": "markdown",
   "metadata": {},
   "source": [
    "Save some metadata.  This is all stored in FITS headers, so can only be simple scalar values"
   ]
  },
  {
   "cell_type": "code",
   "execution_count": 7,
   "metadata": {},
   "outputs": [],
   "source": [
    "S.metadata['nbin_lens'] = 4\n",
    "S.metadata['nbin_source'] = 0 \n",
    "S.metadata['creator'] = 'Beloved User'\n",
    "S.metadata['creation'] = datetime.datetime.now().isoformat()\n",
    "S.metadata['info'] = 'Theory predictions using CCL'"
   ]
  },
  {
   "cell_type": "markdown",
   "metadata": {},
   "source": [
    "Now we create some window objects representing the window functions.\n",
    "\n",
    "As an example here we will also create some window functions for mock observations of a pretend new data type."
   ]
  },
  {
   "cell_type": "code",
   "execution_count": 8,
   "metadata": {},
   "outputs": [],
   "source": [
    "# In this case we use the same top-hat window for each tomographic bin.\n",
    "# In reality we would probably use a different window for each\n",
    "# pair of bins, empirically determined.\n",
    "windows = [sacc.TopHatWindow(m,M) for m,M in window_ranges]\n",
    "\n",
    "# Imaginary new statistic's window that I just made up\n",
    "windows_1pt = []\n",
    "for i in range(5):\n",
    "    v = np.arange(i*10., (i+1)*10.)\n",
    "    w = np.random.uniform(size=10)**2\n",
    "    windows_1pt.append(sacc.Window(v,w))"
   ]
  },
  {
   "cell_type": "markdown",
   "metadata": {},
   "source": [
    "Now we add the tracers and data points"
   ]
  },
  {
   "cell_type": "code",
   "execution_count": 9,
   "metadata": {},
   "outputs": [],
   "source": [
    "for i in range(nbin):\n",
    "    # Add the appropriate tracer\n",
    "    S.add_tracer('NZ', f'bin_{i}', z, N_z[i])\n",
    "    # Get the binned spectrum values\n",
    "    cb = spectra[i]\n",
    "    # In this case we are just doing LSS, so\n",
    "    # there is just a single bin, repeated.\n",
    "    bin_name = f'bin_{i}'\n",
    "\n",
    "    # Add the values\n",
    "    S.add_ell_cl(galaxy_density_cl, bin_name, bin_name, effective_ell, cb, window=windows)"
   ]
  },
  {
   "cell_type": "markdown",
   "metadata": {},
   "source": [
    "We an specify Sacc covariances in several ways.  If we supply a 1D vector it will be interpreted as the variances of a diagonal covariances"
   ]
  },
  {
   "cell_type": "code",
   "execution_count": 10,
   "metadata": {},
   "outputs": [],
   "source": [
    "S.add_covariance(variances)"
   ]
  },
  {
   "cell_type": "markdown",
   "metadata": {},
   "source": [
    "We can tag data points with additional information if we want"
   ]
  },
  {
   "cell_type": "code",
   "execution_count": 11,
   "metadata": {},
   "outputs": [],
   "source": [
    "# Just for fun we add arbitrary tags to a few data points\n",
    "S.data[4].tags['flag'] = 42\n",
    "S.data[10].tags['flag'] = 42"
   ]
  },
  {
   "cell_type": "code",
   "execution_count": 12,
   "metadata": {},
   "outputs": [
    {
     "name": "stdout",
     "output_type": "stream",
     "text": [
      "Removing 8 data points\n"
     ]
    },
    {
     "name": "stderr",
     "output_type": "stream",
     "text": [
      "/Users/jaz/src/Sacc/sacc/sacc.py:340: UserWarning: Empty index selected\n",
      "  warnings.warn(\"Empty index selected\")\n"
     ]
    }
   ],
   "source": [
    "# An example cut\n",
    "cut = S.indices(\"galaxy_density_cl\", ell__gt=900)\n",
    "print(f\"Removing {len(cut)} data points\")\n",
    "S.remove_indices(cut)\n",
    "\n",
    "# Could also write this to do the cut directly.\n",
    "# This won't remove anything because we just did the same cut above\n",
    "S.remove_selection('galaxy_density_cl', ell_gt=900)\n"
   ]
  },
  {
   "cell_type": "markdown",
   "metadata": {},
   "source": [
    "# I/O\n",
    "\n",
    "Let's save to a FITS file now and reload."
   ]
  },
  {
   "cell_type": "code",
   "execution_count": 13,
   "metadata": {},
   "outputs": [],
   "source": [
    "S.save_fits('tmp.fits', overwrite=True)"
   ]
  },
  {
   "cell_type": "code",
   "execution_count": 14,
   "metadata": {},
   "outputs": [],
   "source": [
    "S2 = sacc.Sacc.load_fits('tmp.fits')"
   ]
  },
  {
   "cell_type": "markdown",
   "metadata": {},
   "source": [
    "# Plotting\n",
    "\n",
    "Let's plot the original data file and the re-loaded one, to check they agree."
   ]
  },
  {
   "cell_type": "code",
   "execution_count": 15,
   "metadata": {},
   "outputs": [
    {
     "data": {
      "text/plain": [
       "<matplotlib.legend.Legend at 0x1195947b8>"
      ]
     },
     "execution_count": 15,
     "metadata": {},
     "output_type": "execute_result"
    },
    {
     "data": {
      "image/png": "[encoded data removed]",
      "text/plain": [
       "<Figure size 432x288 with 1 Axes>"
      ]
     },
     "metadata": {
      "needs_background": "light"
     },
     "output_type": "display_data"
    }
   ],
   "source": [
    "# First the original data set\n",
    "for b1, b2 in S.get_tracer_combinations('galaxy_density_cl'):\n",
    "    # We can use this convenience function to pull out the ell values we want\n",
    "    ell, cl, covmat = S.get_ell_cl('galaxy_density_cl', b1, b2, return_cov=True)\n",
    "    errorbar(ell, cl, yerr=covmat.diagonal()**0.5, fmt='.', label=f'{b1}-{b2}')\n",
    "    xscale('log')\n",
    "    yscale('log')\n",
    "title(\"Galaxy C_ell\")\n",
    "legend()\n",
    "\n",
    "# Now another plot of the second data set that we saved and loaded\n",
    "for b1, b2 in S2.get_tracer_combinations('galaxy_density_cl'):\n",
    "    ell, cl, covmat = S2.get_ell_cl('galaxy_density_cl', b1, b2, return_cov=True)\n",
    "    errorbar(ell, cl, yerr=covmat.diagonal()**0.5, fmt='.', label=f'{b1}-{b2}')\n",
    "    xscale('log')\n",
    "    yscale('log')\n",
    "title(\"Galaxy C_ell\")\n",
    "legend()\n"
   ]
  }
 ],
 "metadata": {
  "kernelspec": {
   "display_name": "Python 3",
   "language": "python",
   "name": "python3"
  },
  "language_info": {
   "codemirror_mode": {
    "name": "ipython",
    "version": 3
   },
   "file_extension": ".py",
   "mimetype": "text/x-python",
   "name": "python",
   "nbconvert_exporter": "python",
   "pygments_lexer": "ipython3",
   "version": "3.7.2"
  }
 },
 "nbformat": 4,
 "nbformat_minor": 2
}
