{
 "cells": [
  {
   "cell_type": "markdown",
   "metadata": {},
   "source": [
    "## Convert DESC SN Data to SACC\n",
    "\n",
    "In this example we will load the DESC SN files used in the SRD and convert them into sacc files."
   ]
  },
  {
   "cell_type": "code",
   "execution_count": 1,
   "metadata": {},
   "outputs": [
    {
     "name": "stdout",
     "output_type": "stream",
     "text": [
      "Populating the interactive namespace from numpy and matplotlib\n"
     ]
    }
   ],
   "source": [
    "pylab inline"
   ]
  },
  {
   "cell_type": "code",
   "execution_count": 2,
   "metadata": {},
   "outputs": [],
   "source": [
    "import sacc\n",
    "from sacc import Sacc, standard_types\n",
    "import os\n",
    "import glob\n",
    "import numpy as np"
   ]
  },
  {
   "cell_type": "code",
   "execution_count": null,
   "metadata": {},
   "outputs": [],
   "source": []
  },
  {
   "cell_type": "markdown",
   "metadata": {},
   "source": [
    "Download the DESC SN data files."
   ]
  },
  {
   "cell_type": "code",
   "execution_count": 3,
   "metadata": {
    "scrolled": true
   },
   "outputs": [
    {
     "name": "stdout",
     "output_type": "stream",
     "text": [
      "Y1 directory already downloaded\n",
      "Y10 directory already downloaded\n"
     ]
    }
   ],
   "source": [
    "dirname_year1 = 'sndata/Y1_DDF_FOUNDATION'\n",
    "dirname_year10 = 'sndata/Y10_DDF_WFD_FOUNDATION/'\n",
    "import tarfile\n",
    "import urllib.request\n",
    "url = 'https://zenodo.org/record/2662127/files/LSST_DESC_SRD_v1_release.tar.gz?download=1'\n",
    "os.chdir('/Users/reneehlozek/Code/sacc/examples/')\n",
    "# check if file exists\n",
    "if os.path.exists(dirname_year1):\n",
    "    print(\"Y1 directory already downloaded\")\n",
    "else:\n",
    "    print(\"Downloading full DESC SRD release files\")\n",
    "    os.mkdir('sndata')\n",
    "    urllib.request.urlretrieve(url,'sndata/LSST_DESC_SRD_v1_release.tar.gz')\n",
    "    os.chdir('./sndata/')\n",
    "    print(\"Extracting full DESC SRD release files\")\n",
    "    tf = tarfile.open('LSST_DESC_SRD_v1_release.tar.gz')\n",
    "    tf.extractall()\n",
    "    os.rename('LSST_DESC_SRD_v1_release/forecasting/SN/LikelihoodFiles/Y1_DDF_FOUNDATION/', 'Y1_DDF_FOUNDATION')\n",
    "    os.rename('LSST_DESC_SRD_v1_release/forecasting/SN/LikelihoodFiles/Y10_DDF_WFD_FOUNDATION/', 'Y10_DDF_WFD_FOUNDATION')\n",
    "    os.chdir('/Users/reneehlozek/Code/sacc/examples/')\n",
    "    print(\"Done\")\n",
    "\n",
    "    \n",
    "if os.path.exists(dirname_year10):\n",
    "    print(\"Y10 directory already downloaded\")\n",
    "else:\n",
    "    print(\"Downloading full DESC SRD release files\")\n",
    "    os.mkdir('sndata')\n",
    "    urllib.request.urlretrieve(url,'sndata/LSST_DESC_SRD_v1_release.tar.gz')\n",
    "    os.chdir('./sndata/')\n",
    "    print(\"Extracting full DESC SRD release files\")\n",
    "    tf = tarfile.open('LSST_DESC_SRD_v1_release.tar.gz')\n",
    "    tf.extractall()\n",
    "    os.rename('LSST_DESC_SRD_v1_release/forecasting/SN/LikelihoodFiles/Y1_DDF_FOUNDATION/', 'Y1_DDF_FOUNDATION')\n",
    "    os.rename('LSST_DESC_SRD_v1_release/forecasting/SN/LikelihoodFiles/Y10_DDF_WFD_FOUNDATION/', 'Y10_DDF_WFD_FOUNDATION')\n",
    "    os.chdir('/Users/reneehlozek/Code/sacc/examples/')\n",
    "    print(\"Done\")\n",
    " \n",
    "    "
   ]
  },
  {
   "cell_type": "code",
   "execution_count": 4,
   "metadata": {},
   "outputs": [
    {
     "name": "stdout",
     "output_type": "stream",
     "text": [
      "['supernova'] ['distance'] mu\n"
     ]
    }
   ],
   "source": [
    "#  set up the sacc data namefor the astrophysical sources involved.\n",
    "sources = ['supernova']\n",
    "# the properties of these two sources we are measuring.  If they were the same\n",
    "# property for the two sources we would not repeat it\n",
    "properties = ['distance']\n",
    "\n",
    "# The statistc \n",
    "statistic = 'mu'\n",
    "# There is no futher specified needed here - everything is scalar.\n",
    "subtype = None\n",
    "sndata_type = sacc.build_data_type_name(sources, properties, statistic, subtype)\n",
    "\n",
    "type_details = sacc.parse_data_type_name(sndata_type)\n",
    "print(type_details.sources, type_details.properties, type_details.statistic)\n",
    "\n",
    "\n"
   ]
  },
  {
   "cell_type": "code",
   "execution_count": 41,
   "metadata": {},
   "outputs": [
    {
     "name": "stdout",
     "output_type": "stream",
     "text": [
      "(2, 35)\n"
     ]
    }
   ],
   "source": [
    "\n",
    "#Each DataPoint object contains:\n",
    "\n",
    "#a data type string\n",
    "#a series of strings listing which tracers apply to it\n",
    "#a value of the data point\n",
    "#a dictionary of tags, for example describing binning information\n",
    "\n",
    "S = Sacc()\n",
    "#read in the Y1 data\n",
    "y1dat=np.loadtxt('sndata/Y1_DDF_FOUNDATION/lcparam_Y1_DDF_1.0xFOUNDATION_noScatter.txt', unpack=True)\n",
    "y1cov = np.loadtxt('sndata/Y1_DDF_FOUNDATION/sys_Y1_DDF_FOUNDATION_0.txt', unpack=True)\n",
    "\n",
    "zhel = y1dat[2] # redshift\n",
    "zcmb = y1dat[1] # redshift\n",
    "mb = y1dat[4]\n",
    "dmb = y1dat[5]\n",
    "zmu = np.vstack((zcmb,mb))\n",
    "print(np.shape(zmu))\n",
    "size=np.int(y1cov[0]) # reading the size of the matrix from the first entry\n",
    "cov = np.zeros((size,size))\n",
    "count=1 # since the cov mat starts with the number of lines\n",
    "\n",
    "# SN tracer\n",
    "#S.add_tracer('Misc', 'mu',  # Name\n",
    "#             quantity='generic',  # Quantity\n",
    "#             z=z)  \n",
    "\n",
    "#print(huh)\n",
    "\n",
    "#s.add_ell_cl('cl_00',  # Data type\n",
    "#             'gc',  # 1st tracer's name\n",
    "#             'gc',  # 2nd tracer's name\n",
    "#             ells,  # Effective multipole\n",
    "#             cls[0, 0, :],  # Power spectrum values\n",
    "#             window=wins,  # Bandpower windows\n",
    "#            )\n",
    "for i in range(size):\n",
    "  \n",
    "    # Add the appropriate tracer\n",
    "    S.add_data_point('muval', 'mu',  mb[i], tracers_later=True) # need to figure out how to add z to index the mu\n",
    "    for j in range(size):\n",
    "        cov[i,j]=y1cov[count]\n",
    "        count+=1\n",
    "\n",
    "for i in range(size):\n",
    "    cov[i,i]+=(dmb[i])**2\n",
    "\n",
    "\n",
    "    \n",
    "\n",
    "    \n",
    "S.add_covariance(cov)"
   ]
  },
  {
   "cell_type": "code",
   "execution_count": 42,
   "metadata": {},
   "outputs": [
    {
     "data": {
      "text/plain": [
       "['muval']"
      ]
     },
     "execution_count": 42,
     "metadata": {},
     "output_type": "execute_result"
    }
   ],
   "source": [
    "S.metadata['nbin_distmod'] = size\n",
    "S.metadata['simulation'] = 'Y1_DDF_FOUNDATION'\n",
    "S.metadata['covmat']  = 'sys_Y1_DDF_FOUNDATION_0'\n",
    "S.metadata['creation'] = datetime.datetime.now().isoformat()\n",
    "S.metadata['info'] = 'SN data sets'\n",
    "\n",
    "dt = S.get_data_types()\n",
    "dt"
   ]
  },
  {
   "cell_type": "code",
   "execution_count": 43,
   "metadata": {},
   "outputs": [
    {
     "name": "stderr",
     "output_type": "stream",
     "text": [
      "/anaconda3/lib/python3.7/site-packages/astropy/io/fits/util.py:905: FutureWarning: Passing (type, 1) or '1type' as a synonym of type is deprecated; in a future version of numpy, it will be understood as (type, (1,)) / '(1,)type'.\n",
      "  b = array.view(dt_int, np.ndarray)\n"
     ]
    }
   ],
   "source": [
    "S.save_fits('srd-y1-converted.sacc', overwrite=True)"
   ]
  },
  {
   "cell_type": "code",
   "execution_count": null,
   "metadata": {},
   "outputs": [],
   "source": []
  }
 ],
 "metadata": {
  "kernelspec": {
   "display_name": "Python 3",
   "language": "python",
   "name": "python3"
  },
  "language_info": {
   "codemirror_mode": {
    "name": "ipython",
    "version": 3
   },
   "file_extension": ".py",
   "mimetype": "text/x-python",
   "name": "python",
   "nbconvert_exporter": "python",
   "pygments_lexer": "ipython3",
   "version": "3.7.5"
  }
 },
 "nbformat": 4,
 "nbformat_minor": 2
}
